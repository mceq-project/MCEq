{
 "cells": [
  {
   "cell_type": "markdown",
   "metadata": {},
   "source": [
    "Compute zenith averaged muon and electron neutrino flux\n",
    "-----------------------------------------------------------\n",
    "\n",
    "The down-going neutrino fluxes are averaged over 11 bins in cos(zenith)."
   ]
  },
  {
   "cell_type": "code",
   "execution_count": 1,
   "metadata": {
    "collapsed": true
   },
   "outputs": [],
   "source": [
    "#basic imports and ipython setup\n",
    "#import primary model choices\n",
    "import crflux.models as pm\n",
    "import matplotlib.pyplot as plt\n",
    "import numpy as np\n",
    "\n",
    "#import solver related modules\n",
    "from MCEq.core import MCEqRun"
   ]
  },
  {
   "cell_type": "code",
   "execution_count": 2,
   "metadata": {},
   "outputs": [
    {
     "name": "stdout",
     "output_type": "stream",
     "text": [
      "MCEqRun::set_interaction_model(): SIBYLL23C\n",
      "ParticleManager::_init_default_tracking(): Initializing default tracking categories (pi, K, mu)\n",
      "MCEqRun::set_density_model(): Setting density profile to CORSIKA ('BK_USStd', None)\n",
      "MCEqRun::set_primary_model(): HillasGaisser2012 H3a\n"
     ]
    }
   ],
   "source": [
    "mceq_run = MCEqRun(\n",
    "#provide the string of the interaction model\n",
    "interaction_model='SIBYLL2.3c',\n",
    "#primary cosmic ray flux model\n",
    "#support a tuple (primary model class (not instance!), arguments)\n",
    "primary_model = (pm.HillasGaisser2012, \"H3a\"),\n",
    "# Zenith angle in degrees. 0=vertical, 90=horizontal\n",
    "theta_deg=0.0,\n",
    ")"
   ]
  },
  {
   "cell_type": "markdown",
   "metadata": {},
   "source": [
    "__________\n",
    "\n",
    "If everything succeeds than the last message should be something like\n",
    "\n",
    "`MCEqRun::set_primary_model():  HillasGaisser2012 H3a`.\n",
    "\n",
    "Define variables and angles\n",
    "-------------------------"
   ]
  },
  {
   "cell_type": "code",
   "execution_count": 3,
   "metadata": {
    "collapsed": true
   },
   "outputs": [],
   "source": [
    "#Power of energy to scale the flux\n",
    "mag = 3\n",
    "\n",
    "#obtain energy grid (fixed) of the solution for the x-axis of the plots\n",
    "e_grid = mceq_run.e_grid\n",
    "\n",
    "#Dictionary for results\n",
    "flux = {}\n",
    "\n",
    "#Define equidistant grid in cos(theta)\n",
    "angles = np.arccos(np.linspace(1,0,11))*180./np.pi"
   ]
  },
  {
   "cell_type": "markdown",
   "metadata": {},
   "source": [
    "Calculate average flux\n",
    "---------------------"
   ]
  },
  {
   "cell_type": "code",
   "execution_count": 4,
   "metadata": {},
   "outputs": [],
   "source": [
    "#Initialize empty grid\n",
    "for frac in ['mu_conv','mu_pr','mu_total',\n",
    "             'numu_conv','numu_pr','numu_total',\n",
    "             'nue_conv','nue_pr','nue_total','nutau_pr']:\n",
    "    flux[frac] = np.zeros_like(e_grid)\n",
    "\n",
    "    \n",
    "#Sum fluxes, calculated for different angles\n",
    "for theta in angles:\n",
    "    mceq_run.set_theta_deg(theta)\n",
    "    mceq_run.solve()\n",
    "    #_conv means conventional (mostly pions and kaons)\n",
    "    flux['mu_conv'] += (mceq_run.get_solution('conv_mu+', mag)\n",
    "                       + mceq_run.get_solution('conv_mu-', mag))\n",
    "\n",
    "    # _pr means prompt (the mother of the muon had a critical energy\n",
    "    # higher than a D meson. Includes all charm and direct resonance\n",
    "    # contribution)\n",
    "    flux['mu_pr'] += (mceq_run.get_solution('pr_mu+', mag)\n",
    "                     + mceq_run.get_solution('pr_mu-', mag))\n",
    "\n",
    "    # total means conventional + prompt\n",
    "    flux['mu_total'] += (mceq_run.get_solution('total_mu+', mag)\n",
    "                        + mceq_run.get_solution('total_mu-', mag))\n",
    "\n",
    "    # same meaning of prefixes for muon neutrinos as for muons\n",
    "    flux['numu_conv'] += (mceq_run.get_solution('conv_numu', mag)\n",
    "                         + mceq_run.get_solution('conv_antinumu', mag))\n",
    "\n",
    "    flux['numu_pr'] += (mceq_run.get_solution('pr_numu', mag)\n",
    "                       + mceq_run.get_solution('pr_antinumu', mag))\n",
    "\n",
    "    flux['numu_total'] += (mceq_run.get_solution('total_numu', mag)\n",
    "                          + mceq_run.get_solution('total_antinumu', mag))\n",
    "\n",
    "    # same meaning of prefixes for electron neutrinos as for muons\n",
    "    flux['nue_conv'] += (mceq_run.get_solution('conv_nue', mag)\n",
    "                        + mceq_run.get_solution('conv_antinue', mag))\n",
    "\n",
    "    flux['nue_pr'] += (mceq_run.get_solution('pr_nue', mag)\n",
    "                      + mceq_run.get_solution('pr_antinue', mag))\n",
    "\n",
    "    flux['nue_total'] += (mceq_run.get_solution('total_nue', mag)\n",
    "                         + mceq_run.get_solution('total_antinue', mag))\n",
    "\n",
    "\n",
    "    # since there are no conventional tau neutrinos, prompt=total\n",
    "    flux['nutau_pr'] += (mceq_run.get_solution('total_nutau', mag)\n",
    "                        + mceq_run.get_solution('total_antinutau', mag))\n",
    "\n",
    "#average the results\n",
    "for frac in ['mu_conv','mu_pr','mu_total',\n",
    "             'numu_conv','numu_pr','numu_total',\n",
    "             'nue_conv','nue_pr','nue_total','nutau_pr']:\n",
    "    flux[frac] = flux[frac]/float(len(angles))"
   ]
  },
  {
   "cell_type": "markdown",
   "metadata": {},
   "source": [
    "Plot with matplotlib\n",
    "--------------------"
   ]
  },
  {
   "cell_type": "code",
   "execution_count": 8,
   "metadata": {},
   "outputs": [
    {
     "data": {
      "image/png": "[encoded data removed]",
      "text/plain": [
       "<Figure size 302.4x216 with 1 Axes>"
      ]
     },
     "metadata": {
      "needs_background": "light"
     },
     "output_type": "display_data"
    },
    {
     "data": {
      "image/png": "[encoded data removed]",
      "text/plain": [
       "<Figure size 302.4x216 with 1 Axes>"
      ]
     },
     "metadata": {
      "needs_background": "light"
     },
     "output_type": "display_data"
    }
   ],
   "source": [
    "#get path of the home directory + Desktop\n",
    "save_pdf = False\n",
    "\n",
    "for pref, lab in [('numu_',r'\\nu_\\mu'), ('nue_',r'\\nu_e')]:\n",
    "    plt.figure(figsize=(4.2, 3))\n",
    "    plt.loglog(e_grid, flux[pref + 'total'], color='k', ls='-', lw=1.5)\n",
    "    plt.loglog(e_grid, flux[pref + 'conv'], color='b', ls='-.', lw=1.5,\n",
    "               label=rf'conventional ${lab}$')\n",
    "    plt.loglog(e_grid, flux[pref + 'pr'], color='r',ls='--', lw=1.5, \n",
    "               label=f'prompt ${lab}$')\n",
    "    plt.xlim(10,1e7)\n",
    "    plt.ylim(1e-5,10)\n",
    "    plt.xlabel(rf\"$E_{{{lab}}}$ [GeV]\")\n",
    "    plt.ylabel(r\"$\\Phi_{\" + lab + \"}$ (E/GeV)$^{\" + str(mag) +\" }$\" + \n",
    "               \"(cm$^{2}$ s sr GeV)$^{-1}$\")\n",
    "    plt.legend(loc='upper right',frameon=False,numpoints=1,fontsize='medium')\n",
    "    plt.tight_layout()\n",
    "    if save_pdf:\n",
    "        import os\n",
    "        plt.savefig(os.path.join(os.path.expanduser(\"~\"),'Desktop', pref + 'flux.png'),dpi=300)"
   ]
  },
  {
   "cell_type": "markdown",
   "metadata": {},
   "source": [
    "Save as in ASCII file for other types of processing\n",
    "---------------------------------------------------"
   ]
  },
  {
   "cell_type": "code",
   "execution_count": 7,
   "metadata": {
    "collapsed": true
   },
   "outputs": [],
   "source": [
    "np.savetxt(open(os.path.join(desktop, 'H3a_zenith_av.txt'),'w'),\n",
    "zip(e_grid, \n",
    "    flux['mu_conv'],flux['mu_pr'],flux['mu_total'],\n",
    "    flux['numu_conv'],flux['numu_pr'],flux['numu_total'],\n",
    "    flux['nue_conv'],flux['nue_pr'],flux['nue_total'],\n",
    "    flux['nutau_pr']),\n",
    "fmt='%6.5E',\n",
    "header=('lepton flux scaled with E**{0}. Order (E, mu_conv, mu_pr, mu_total, ' +\n",
    "        'numu_conv, numu_pr, numu_total, nue_conv, nue_pr, nue_total, ' +\n",
    "        'nutau_pr').format(mag)\n",
    ")"
   ]
  },
  {
   "cell_type": "code",
   "execution_count": null,
   "metadata": {
    "collapsed": true
   },
   "outputs": [],
   "source": []
  }
 ],
 "metadata": {
  "kernelspec": {
   "display_name": "Python 2",
   "language": "python",
   "name": "python2"
  },
  "language_info": {
   "codemirror_mode": {
    "name": "ipython",
    "version": 2
   },
   "file_extension": ".py",
   "mimetype": "text/x-python",
   "name": "python",
   "nbconvert_exporter": "python",
   "pygments_lexer": "ipython2",
   "version": "2.7.16"
  }
 },
 "nbformat": 4,
 "nbformat_minor": 2
}
