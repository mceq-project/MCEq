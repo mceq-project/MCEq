{
 "cells": [
  {
   "cell_type": "markdown",
   "metadata": {},
   "source": [
    "Atmospheres\n",
    "-----------\n",
    "\n",
    "This notebook demonstrates how to create objects and plot some the density-depth relation of atmospheres without using the cascade equation core code. The code will produce Figure 4 from the proceedings.\n",
    "\n",
    "If running for the first time, a cache file will be created to store the interpolation parameters for the integrated density profiles. The second run will use the cache and run much quicker. The integration itself can be optimized *in future* by using multiple cores or a different integrator.\n",
    "\n",
    "**Note**: When using the *native* Python interface to NRLMSISE-00, the depth integration is **extremely slow** (1-3 minutes). As soon as the lincese questions with the ctypes interface to the pure-C code are solved this will be not an issue."
   ]
  },
  {
   "cell_type": "code",
   "execution_count": null,
   "metadata": {
    "collapsed": false
   },
   "outputs": [],
   "source": [
    "#standard imports\n",
    "%load_ext autoreload\n",
    "%autoreload 2\n",
    "%matplotlib inline\n",
    "import os\n",
    "import matplotlib.pyplot as plt\n",
    "os.chdir('..')\n",
    "#just import the density_profile module to test the classes\n",
    "from MCEq.density_profiles import *"
   ]
  },
  {
   "cell_type": "markdown",
   "metadata": {},
   "source": [
    "Create instances of the atmospheric objects and plot."
   ]
  },
  {
   "cell_type": "code",
   "execution_count": null,
   "metadata": {
    "collapsed": false
   },
   "outputs": [],
   "source": [
    "us_obj = CorsikaAtmosphere('BK_USStd', None)\n",
    "sps_obj = CorsikaAtmosphere('PL_SouthPole', 'January')\n",
    "spw_obj = CorsikaAtmosphere('PL_SouthPole', 'August')\n",
    "msps_obj = MSIS00Atmosphere('SouthPole', 'January')\n",
    "mspw_obj = MSIS00Atmosphere('SouthPole', 'August')"
   ]
  },
  {
   "cell_type": "code",
   "execution_count": null,
   "metadata": {
    "collapsed": false
   },
   "outputs": [],
   "source": [
    "fig = plt.figure(figsize=(4,3))\n",
    "ax = fig.add_subplot(111)\n",
    "# set_theta will trigger integration and cache look-up \n",
    "us_obj.set_theta(0.0)\n",
    "sps_obj.set_theta(0.0)\n",
    "spw_obj.set_theta(0.0)\n",
    "msps_obj.set_theta(0.0)\n",
    "mspw_obj.set_theta(0.0)\n",
    "\n",
    "# obtain the depth value corresponding to the surface from obj.X_surf \n",
    "x_vec = np.linspace(0, us_obj.X_surf, 10000) \n",
    "plt.plot(x_vec, 1e3 / us_obj.r_X2rho(x_vec),label='US Standard',lw=1.5,color='black')\n",
    "plt.plot(x_vec, 1e3 / spw_obj.r_X2rho(x_vec),label='CKA, SP/Aug',lw=1.5,color='red')\n",
    "plt.plot(x_vec, 1e3 / sps_obj.r_X2rho(x_vec),label='CKA, SP/Jan',lw=1.5,color='green')\n",
    "plt.plot(x_vec, 1e3 / mspw_obj.r_X2rho(x_vec),label='MSIS00, SP/Aug',lw=1.5,color='cyan')\n",
    "plt.plot(x_vec, 1e3 / msps_obj.r_X2rho(x_vec),label='MSIS00, SP/Jan',lw=1.5,color='blue')\n",
    "\n",
    "us_obj.set_theta(70.0)\n",
    "sps_obj.set_theta(70.0)\n",
    "spw_obj.set_theta(70.0)\n",
    "msps_obj.set_theta(70.0)\n",
    "mspw_obj.set_theta(70.0)\n",
    "x_vec = np.linspace(0, us_obj.X_surf, 10000)\n",
    "plt.plot(x_vec, 1e3 / us_obj.r_X2rho(x_vec),label='_nolabel_',lw=1.5, ls='--', color='black')\n",
    "plt.plot(x_vec, 1e3 / spw_obj.r_X2rho(x_vec),label='_nolabel_',lw=1.5, ls='--', color='red')\n",
    "plt.plot(x_vec, 1e3 / sps_obj.r_X2rho(x_vec),label='_nolabel_',lw=1.5, ls='--', color='green')\n",
    "plt.plot(x_vec, 1e3 / mspw_obj.r_X2rho(x_vec),label='_nolabel_',lw=1.5, ls='--', color='cyan')\n",
    "plt.plot(x_vec, 1e3 / msps_obj.r_X2rho(x_vec),label='_nolabel_',lw=1.5, ls='--', color='blue')\n",
    "plt.xlim([0,4000])\n",
    "plt.legend(loc='lower right', frameon=False, fontsize=10)\n",
    "\n",
    "ax.spines['right'].set_visible(False)\n",
    "ax.spines['top'].set_visible(False)\n",
    "ax.xaxis.set_ticks_position('bottom')\n",
    "ax.yaxis.set_major_locator(plt.MaxNLocator(nbins=4))\n",
    "ax.yaxis.tick_left()\n",
    "plt.xlabel('slant depth $X$ in [g/cm$^2$]')\n",
    "plt.ylabel(r'mass density $\\rho$ in [10$^{-3}$g/cm$^3$]')\n",
    "plt.tight_layout()\n",
    "plt.savefig('rho_X.pdf')"
   ]
  },
  {
   "cell_type": "code",
   "execution_count": null,
   "metadata": {
    "collapsed": false
   },
   "outputs": [],
   "source": []
  }
 ],
 "metadata": {
  "kernelspec": {
   "display_name": "Python 2",
   "language": "python",
   "name": "python2"
  },
  "language_info": {
   "codemirror_mode": {
    "name": "ipython",
    "version": 2
   },
   "file_extension": ".py",
   "mimetype": "text/x-python",
   "name": "python",
   "nbconvert_exporter": "python",
   "pygments_lexer": "ipython2",
   "version": "2.7.9"
  }
 },
 "nbformat": 4,
 "nbformat_minor": 0
}
