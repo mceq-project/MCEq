{
 "cells": [
  {
   "cell_type": "markdown",
   "metadata": {},
   "source": [
    "Zenith averaged muon and electron neutrino flux vs Super-K I-IV data\n",
    "-----------------------------------------------------------\n",
    "\n",
    "This notebook is an extension of the 'basic_flux' example. The lepton flux is averaged over 11 bins in cos(zenith)."
   ]
  },
  {
   "cell_type": "code",
   "execution_count": 1,
   "metadata": {
    "collapsed": false
   },
   "outputs": [],
   "source": [
    "#basic imports and ipython setup\n",
    "%load_ext autoreload\n",
    "%matplotlib inline\n",
    "%autoreload 2\n",
    "import os\n",
    "import matplotlib.pyplot as plt\n",
    "import numpy as np\n",
    "os.chdir('..')\n",
    "\n",
    "#import solver related modules\n",
    "from MCEq.core import MCEqRun\n",
    "from mceq_config import config\n",
    "#import primary model choices\n",
    "import CRFluxModels as pm"
   ]
  },
  {
   "cell_type": "markdown",
   "metadata": {},
   "source": [
    "Create an instance of an MCEqRun class. Most of its areguments are contained in the `config` dictionary from the `mceq_config` module. Look into or edit `mceq_config.py`.\n",
    "\n",
    "If the initialization succeeds it will print out some information according to the debug level. "
   ]
  },
  {
   "cell_type": "code",
   "execution_count": 2,
   "metadata": {
    "collapsed": false
   },
   "outputs": [
    {
     "name": "stdout",
     "output_type": "stream",
     "text": [
      "\n",
      "Hadrons:\n",
      "\n",
      "\"p-bar\", \"p\", \"n-bar\", \"n\", \"pi+\", \"pi-\", \"K0L\", \"K+\", \n",
      "\"K-\"\n",
      "\n",
      "Mixed:\n",
      "\n",
      "\"Lambda0-bar\", \"Lambda0\", \"Xi0-bar\", \"Xi0\", \"K0S\", \"Xi--bar\", \"Xi-\", \"Sigma--bar\", \n",
      "\"Sigma-\", \"Sigma+-bar\", \"Sigma+\", \"Omega--bar\", \"Omega-\", \"D+\", \"D-\", \"Ds+\", \n",
      "\"Ds-\", \"D0\", \"D0-bar\", \"XiC+-bar\", \"XiC+\", \"tau+\", \"tau-\", \"LambdaC+-bar\", \n",
      "\"LambdaC+\", \"XiC0-bar\", \"XiC0\", \"OmegaC0-bar\", \"OmegaC0\", \"pi0\"\n",
      "\n",
      "Resonances:\n",
      "\n",
      "\"eta\", \"Sigma0-bar\", \"Sigma0\", \"D*+\", \"D*-\", \"eta*\", \"jpsi\", \"phi\", \n",
      "\"SigmaC0-bar\", \"SigmaC0\", \"SigmaC+-bar\", \"SigmaC+\", \"SigmaC++-bar\", \"SigmaC++\", \"omega\", \"Xi*0-bar\", \n",
      "\"Xi*0\", \"Xi*--bar\", \"Xi*-\", \"SigmaC*0-bar\", \"SigmaC*0\", \"SigmaC*++-bar\", \"SigmaC*++\", \"SigmaC*+-bar\", \n",
      "\"SigmaC*+\", \"K*0\", \"K*0-bar\", \"K*+\", \"K*-\", \"Sigma*+-bar\", \"Sigma*+\", \"Sigma*0-bar\", \n",
      "\"Sigma*0\", \"Sigma*--bar\", \"Sigma*-\", \"etaC\", \"rho+\", \"rho-\", \"rho0\", \"Delta--bar\", \n",
      "\"Delta0-bar\", \"Delta+-bar\", \"Delta++-bar\", \"Delta++\", \"Delta+\", \"Delta0\", \"Delta-\", \"D*0\", \n",
      "\"D*0-bar\", \"XiC*0-bar\", \"XiC*+-bar\", \"XiC*+\", \"XiC*0\", \"Ds*+\", \"Ds*-\"\n",
      "\n",
      "Leptons:\n",
      "\n",
      "\"nue\", \"numu\", \"nutau\", \"antinue\", \"antinumu\", \"antinutau\", \"mu-\", \"mu+\"\n",
      "\n",
      "Aliases:\n",
      "\"pr_nue\", \"pr_numu\", \"pr_nutau\", \"pi_nue\", \"pi_numu\", \"pi_nutau\", \"k_nue\", \"k_numu\", \n",
      "\"k_nutau\", \"obs_nue\", \"obs_numu\", \"obs_nutau\", \"pr_antinue\", \"pr_antinumu\", \"pr_antinutau\", \"pi_antinue\", \n",
      "\"pi_antinumu\", \"pi_antinutau\", \"k_antinue\", \"k_antinumu\", \"k_antinutau\", \"obs_antinue\", \"obs_antinumu\", \"obs_antinutau\", \n",
      "\"pr_mu-\", \"pi_mu-\", \"k_mu-\", \"obs_mu-\", \"pr_mu+\", \"pi_mu+\", \"k_mu+\", \"obs_mu+\"\n",
      "\n",
      "Total number of species: 79\n",
      "MCEqRun::set_interaction_model():  SIBYLL2.3\n",
      "InteractionYields:set_interaction_model():: Model SIBYLL2.3 already loaded.\n",
      "InteractionYields:set_interaction_model():: Model SIBYLL2.3 already loaded.\n",
      "MCEqRun::_init_default_matrices():Start filling matrices.\n",
      "MCEqRun::_convert_to_sparse():Converting to sparse (CSR) matrix format.\n",
      "C Matrix info:\n",
      "    density    : 4.21%\n",
      "    shape      : 5688 x 5688\n",
      "    nnz        : 1362761\n",
      "D Matrix info:\n",
      "    density    : 0.90%\n",
      "    shape      : 5688 x 5688\n",
      "    nnz        : 290105\n",
      "MCEqRun::_init_default_matrices():Done filling matrices.\n",
      "MCEqRun::set_density_model():  CORSIKA ('BK_USStd', None)\n",
      "MCEqRun::set_theta_deg():  0.0\n",
      "CorsikaAtmosphere::calculate_density_spline(): Calculating spline of rho(X) for zenith 0.0 degrees.\n",
      ".. took 2.49s\n",
      "Average spline error: 2.04383585745e-16\n",
      "MCEqRun::set_primary_model():  HillasGaisser2012 H3a\n"
     ]
    }
   ],
   "source": [
    "mceq_run = MCEqRun(\n",
    "#provide the string of the interaction model\n",
    "interaction_model='SIBYLL2.3',\n",
    "#primary cosmic ray flux model\n",
    "#support a tuple (primary model class (not instance!), arguments)\n",
    "primary_model = (pm.HillasGaisser2012, \"H3a\"),\n",
    "# Zenith angle in degrees. 0=vertical, 90=horizontal\n",
    "theta_deg=0.0,\n",
    "#expand the rest of the options from mceq_config.py\n",
    "**config\n",
    ")"
   ]
  },
  {
   "cell_type": "markdown",
   "metadata": {},
   "source": [
    "__________\n",
    "\n",
    "If everything succeeds than the last message should be something like\n",
    "\n",
    "`MCEqRun::set_primary_model():  HillasGaisser2012 H3a`.\n",
    "\n",
    "The spline interpolating the depth-density relation of an atmosphere will be caluclated and cached during the first run.\n",
    "\n",
    "Define variables and angles\n",
    "-------------------------"
   ]
  },
  {
   "cell_type": "code",
   "execution_count": 3,
   "metadata": {
    "collapsed": false
   },
   "outputs": [],
   "source": [
    "#Power of energy to scale the flux\n",
    "mag = 3\n",
    "\n",
    "#obtain energy grid (fixed) of the solution for the x-axis of the plots\n",
    "e_grid = mceq_run.e_grid\n",
    "\n",
    "#Dictionary for results\n",
    "flux = {}\n",
    "\n",
    "#Define equidistant grid in cos(theta)\n",
    "angles = np.arccos(np.linspace(1,0,11))*180./np.pi"
   ]
  },
  {
   "cell_type": "markdown",
   "metadata": {},
   "source": [
    "Calculate average flux\n",
    "---------------------"
   ]
  },
  {
   "cell_type": "code",
   "execution_count": 4,
   "metadata": {
    "collapsed": false
   },
   "outputs": [
    {
     "name": "stdout",
     "output_type": "stream",
     "text": [
      "MCEqRun::set_theta_deg():  0.0\n",
      "Theta selection correponds to cached value, skipping calc.\n",
      "MCEqRun::_calculate_integration_path():\n",
      "MCEqRun::_forward_euler(): Solver will perform 4729 integration steps.\n",
      "\n",
      "MCEqRun::_forward_euler(): time elapsed during integration: 4.66599988937 sec\n",
      "MCEqRun::set_theta_deg():  25.8419327632\n",
      "CorsikaAtmosphere::calculate_density_spline(): Calculating spline of rho(X) for zenith 25.8419327632 degrees.\n",
      ".. took 2.47s\n",
      "Average spline error: 2.06005464759e-16\n",
      "MCEqRun::_calculate_integration_path():\n",
      "MCEqRun::_forward_euler(): Solver will perform 5243 integration steps.\n",
      "\n",
      "MCEqRun::_forward_euler(): time elapsed during integration: 4.44499993324 sec\n",
      "MCEqRun::set_theta_deg():  36.8698976458\n",
      "CorsikaAtmosphere::calculate_density_spline(): Calculating spline of rho(X) for zenith 36.8698976458 degrees.\n",
      ".. took 2.39s\n",
      "Average spline error: 1.98633761513e-16\n",
      "MCEqRun::_calculate_integration_path():\n",
      "MCEqRun::_forward_euler(): Solver will perform 5880 integration steps.\n",
      "\n",
      "MCEqRun::_forward_euler(): time elapsed during integration: 5.1819999218 sec\n",
      "MCEqRun::set_theta_deg():  45.5729959992\n",
      "CorsikaAtmosphere::calculate_density_spline(): Calculating spline of rho(X) for zenith 45.5729959992 degrees.\n",
      ".. took 2.39s\n",
      "Average spline error: 2.02839903835e-16\n",
      "MCEqRun::_calculate_integration_path():\n",
      "MCEqRun::_forward_euler(): Solver will perform 6692 integration steps.\n",
      "\n",
      "MCEqRun::_forward_euler(): time elapsed during integration: 5.44799995422 sec\n",
      "MCEqRun::set_theta_deg():  53.1301023542\n",
      "CorsikaAtmosphere::calculate_density_spline(): Calculating spline of rho(X) for zenith 53.1301023542 degrees.\n",
      ".. took 2.35s\n",
      "Average spline error: 2.04624675284e-16\n",
      "MCEqRun::_calculate_integration_path():\n",
      "MCEqRun::_forward_euler(): Solver will perform 7758 integration steps.\n",
      "\n",
      "MCEqRun::_forward_euler(): time elapsed during integration: 6.60100007057 sec\n",
      "MCEqRun::set_theta_deg():  60.0\n",
      "CorsikaAtmosphere::calculate_density_spline(): Calculating spline of rho(X) for zenith 60.0 degrees.\n",
      ".. took 2.75s\n",
      "Average spline error: 2.03688863795e-16\n",
      "MCEqRun::_calculate_integration_path():\n",
      "MCEqRun::_forward_euler(): Solver will perform 9215 integration steps.\n",
      "\n",
      "MCEqRun::_forward_euler(): time elapsed during integration: 8.69499993324 sec\n",
      "MCEqRun::set_theta_deg():  66.4218215218\n",
      "CorsikaAtmosphere::calculate_density_spline(): Calculating spline of rho(X) for zenith 66.4218215218 degrees.\n",
      ".. took 2.56s\n",
      "Average spline error: 2.1204969134e-16\n",
      "MCEqRun::_calculate_integration_path():\n",
      "MCEqRun::_forward_euler(): Solver will perform 11316 integration steps.\n",
      "\n",
      "MCEqRun::_forward_euler(): time elapsed during integration: 9.63199996948 sec\n",
      "MCEqRun::set_theta_deg():  72.5423968763\n",
      "CorsikaAtmosphere::calculate_density_spline(): Calculating spline of rho(X) for zenith 72.5423968763 degrees.\n",
      ".. took 2.54s\n",
      "Average spline error: 2.02414088603e-16\n",
      "MCEqRun::_calculate_integration_path():\n",
      "MCEqRun::_forward_euler(): Solver will perform 14563 integration steps.\n",
      "\n",
      "MCEqRun::_forward_euler(): time elapsed during integration: 12.3239998817 sec\n",
      "MCEqRun::set_theta_deg():  78.4630409672\n",
      "CorsikaAtmosphere::calculate_density_spline(): Calculating spline of rho(X) for zenith 78.4630409672 degrees.\n",
      ".. took 2.52s\n",
      "Average spline error: 2.02474974178e-16\n",
      "MCEqRun::_calculate_integration_path():\n",
      "MCEqRun::_forward_euler(): Solver will perform 20063 integration steps.\n",
      "\n",
      "MCEqRun::_forward_euler(): time elapsed during integration: 18.3080000877 sec\n",
      "MCEqRun::set_theta_deg():  84.2608295227\n",
      "CorsikaAtmosphere::calculate_density_spline(): Calculating spline of rho(X) for zenith 84.2608295227 degrees.\n",
      ".. took 2.34s\n",
      "Average spline error: 1.97295096979e-16\n",
      "MCEqRun::_calculate_integration_path():\n",
      "MCEqRun::_forward_euler(): Solver will perform 30383 integration steps.\n",
      "\n",
      "MCEqRun::_forward_euler(): time elapsed during integration: 25.8259999752 sec\n",
      "MCEqRun::set_theta_deg():  90.0\n",
      "CorsikaAtmosphere::calculate_density_spline(): Calculating spline of rho(X) for zenith 90.0 degrees.\n",
      ".. took 2.48s\n",
      "Average spline error: 2.03991207532e-16\n",
      "MCEqRun::_calculate_integration_path():\n",
      "MCEqRun::_forward_euler(): Solver will perform 50480 integration steps.\n",
      "\n",
      "MCEqRun::_forward_euler(): time elapsed during integration: 52.3180000782 sec\n"
     ]
    }
   ],
   "source": [
    "#Initialize empty grid\n",
    "for frac in ['mu_conv','mu_pr','mu_total',\n",
    "             'numu_conv','numu_pr','numu_total',\n",
    "             'nue_conv','nue_pr','nue_total','nutau_pr']:\n",
    "    flux[frac] = np.zeros_like(e_grid)\n",
    "\n",
    "    \n",
    "#Sum fluxes, calculated for different angles\n",
    "for theta in angles:\n",
    "    mceq_run.set_theta_deg(theta)\n",
    "    mceq_run.solve()\n",
    "    #_conv means conventional (mostly pions and kaons)\n",
    "    flux['mu_conv'] += (mceq_run.get_solution('conv_mu+', mag)\n",
    "                       + mceq_run.get_solution('conv_mu-', mag))\n",
    "\n",
    "    # _pr means prompt (the mother of the muon had a critical energy\n",
    "    # higher than a D meson. Includes all charm and direct resonance\n",
    "    # contribution)\n",
    "    flux['mu_pr'] += (mceq_run.get_solution('pr_mu+', mag)\n",
    "                     + mceq_run.get_solution('pr_mu-', mag))\n",
    "\n",
    "    # total means conventional + prompt\n",
    "    flux['mu_total'] += (mceq_run.get_solution('total_mu+', mag)\n",
    "                        + mceq_run.get_solution('total_mu-', mag))\n",
    "\n",
    "    # same meaning of prefixes for muon neutrinos as for muons\n",
    "    flux['numu_conv'] += (mceq_run.get_solution('conv_numu', mag)\n",
    "                         + mceq_run.get_solution('conv_antinumu', mag))\n",
    "\n",
    "    flux['numu_pr'] += (mceq_run.get_solution('pr_numu', mag)\n",
    "                       + mceq_run.get_solution('pr_antinumu', mag))\n",
    "\n",
    "    flux['numu_total'] += (mceq_run.get_solution('total_numu', mag)\n",
    "                          + mceq_run.get_solution('total_antinumu', mag))\n",
    "\n",
    "    # same meaning of prefixes for electron neutrinos as for muons\n",
    "    flux['nue_conv'] += (mceq_run.get_solution('conv_nue', mag)\n",
    "                        + mceq_run.get_solution('conv_antinue', mag))\n",
    "\n",
    "    flux['nue_pr'] += (mceq_run.get_solution('pr_nue', mag)\n",
    "                      + mceq_run.get_solution('pr_antinue', mag))\n",
    "\n",
    "    flux['nue_total'] += (mceq_run.get_solution('total_nue', mag)\n",
    "                         + mceq_run.get_solution('total_antinue', mag))\n",
    "\n",
    "\n",
    "    # since there are no conventional tau neutrinos, prompt=total\n",
    "    flux['nutau_pr'] += (mceq_run.get_solution('total_nutau', mag)\n",
    "                        + mceq_run.get_solution('total_antinutau', mag))\n",
    "\n",
    "#average the results\n",
    "for frac in ['mu_conv','mu_pr','mu_total',\n",
    "             'numu_conv','numu_pr','numu_total',\n",
    "             'nue_conv','nue_pr','nue_total','nutau_pr']:\n",
    "    flux[frac] = flux[frac]/float(len(angles))"
   ]
  },
  {
   "cell_type": "code",
   "execution_count": 5,
   "metadata": {
    "collapsed": true
   },
   "outputs": [],
   "source": [
    "from copy import copy\n",
    "flux_H3a = copy(flux)"
   ]
  },
  {
   "cell_type": "markdown",
   "metadata": {},
   "source": [
    "Plot with matplotlib\n",
    "--------------------"
   ]
  },
  {
   "cell_type": "code",
   "execution_count": 46,
   "metadata": {
    "collapsed": false
   },
   "outputs": [
    {
     "data": {
      "image/png": "[encoded data removed]",
      "text/plain": [
       "<matplotlib.figure.Figure at 0x1b891828>"
      ]
     },
     "metadata": {},
     "output_type": "display_data"
    },
    {
     "data": {
      "image/png": "[encoded data removed]",
      "text/plain": [
       "<matplotlib.figure.Figure at 0x1a37c940>"
      ]
     },
     "metadata": {},
     "output_type": "display_data"
    }
   ],
   "source": [
    "#get path of the home directory + Desktop\n",
    "save_pdf = True\n",
    "desktop = os.path.join(os.path.expanduser(\"~\"),'Desktop')\n",
    "\n",
    "for pref, lab in [('numu_',r'\\nu_\\mu'), ('nue_',r'\\nu_e')]:\n",
    "    plt.figure(figsize=(4.2, 3))\n",
    "    plt.loglog(e_grid, flux[pref + 'total'], color='k', ls='-', lw=1.5)\n",
    "    plt.loglog(e_grid, flux[pref + 'conv'], color='b', ls='-.', lw=1.5,\n",
    "               label=r'conventional ${0}$'.format(lab))\n",
    "    plt.loglog(e_grid, flux[pref + 'pr'], color='r',ls='--', lw=1.5, \n",
    "               label='prompt ${0}$'.format(lab))\n",
    "    if pref.find('numu') != -1:\n",
    "        plt.errorbar(e_numu,e_numu*sk_numu,yerr=err_numu*e_numu*sk_numu,\n",
    "                    label=r'Super-K $\\nu_\\mu$',fmt='s')\n",
    "    elif pref.find('nue') != -1:\n",
    "        plt.errorbar(e_nue,e_nue*sk_nue,yerr=err_nue*e_nue*sk_nue,\n",
    "                    label=r'Super-K $\\nu_e$',fmt='s')\n",
    "    plt.xlim(10,1e7)\n",
    "    plt.ylim(1e-5,10)\n",
    "    plt.xlabel(r\"$E_{{{0}}}$ [GeV]\".format(lab))\n",
    "    plt.ylabel(r\"$\\Phi_{\" + lab + \"}$ (E/GeV)$^{\" + str(mag) +\" }$\" + \n",
    "               \"(cm$^{2}$ s sr GeV)$^{-1}$\")\n",
    "    plt.legend(loc='upper right',frameon=False,numpoints=1,fontsize='medium')\n",
    "    plt.tight_layout()\n",
    "    if save_pdf: plt.savefig(os.path.join(desktop, pref + 'flux.png'),dpi=300)"
   ]
  },
  {
   "cell_type": "markdown",
   "metadata": {},
   "source": [
    "Save as in ASCII file for other types of processing\n",
    "---------------------------------------------------"
   ]
  },
  {
   "cell_type": "code",
   "execution_count": 6,
   "metadata": {
    "collapsed": false
   },
   "outputs": [],
   "source": [
    "np.savetxt(open(os.path.join(desktop, 'H3a_zenith_av.txt'),'w'),\n",
    "zip(e_grid, \n",
    "    flux['mu_conv'],flux['mu_pr'],flux['mu_total'],\n",
    "    flux['numu_conv'],flux['numu_pr'],flux['numu_total'],\n",
    "    flux['nue_conv'],flux['nue_pr'],flux['nue_total'],\n",
    "    flux['nutau_pr']),\n",
    "fmt='%6.5E',\n",
    "header=('lepton flux scaled with E**{0}. Order (E, mu_conv, mu_pr, mu_total, ' +\n",
    "        'numu_conv, numu_pr, numu_total, nue_conv, nue_pr, nue_total, ' +\n",
    "        'nutau_pr').format(mag)\n",
    ")"
   ]
  },
  {
   "cell_type": "code",
   "execution_count": 45,
   "metadata": {
    "collapsed": false
   },
   "outputs": [],
   "source": [
    "_,_,e_numu,sk_numu,err_numu = np.loadtxt('SK_numu_2015.dat',unpack=True)\n",
    "e_numu = 10**e_numu\n",
    "_,_,e_nue,sk_nue,err_nue = np.loadtxt('SK_nue_2015.dat',unpack=True)\n",
    "e_nue = 10**e_nue"
   ]
  },
  {
   "cell_type": "code",
   "execution_count": 11,
   "metadata": {
    "collapsed": false
   },
   "outputs": [
    {
     "name": "stdout",
     "output_type": "stream",
     "text": [
      "[[ -6.00000000e-01  -4.00000000e-01  -5.10000000e-01   1.58000000e-02\n",
      "    2.10000000e-01]\n",
      " [ -4.00000000e-01  -2.00000000e-01  -3.20000000e-01   1.77000000e-02\n",
      "    1.70000000e-01]\n",
      " [ -2.00000000e-01   0.00000000e+00  -9.00000000e-02   1.86000000e-02\n",
      "    1.60000000e-01]\n",
      " [  0.00000000e+00   2.00000000e-01   1.00000000e-01   1.68000000e-02\n",
      "    1.80000000e-01]\n",
      " [  2.00000000e-01   4.00000000e-01   3.00000000e-01   1.38000000e-02\n",
      "    2.00000000e-01]\n",
      " [  4.00000000e-01   6.00000000e-01   5.10000000e-01   9.59000000e-03\n",
      "    2.10000000e-01]\n",
      " [  6.00000000e-01   8.00000000e-01   7.10000000e-01   6.68000000e-03\n",
      "    2.00000000e-01]\n",
      " [  8.00000000e-01   1.00000000e+00   9.00000000e-01   4.79000000e-03\n",
      "    1.70000000e-01]\n",
      " [  1.00000000e+00   1.50000000e+00   1.21000000e+00   2.62000000e-03\n",
      "    1.30000000e-01]\n",
      " [  1.50000000e+00   2.00000000e+00   1.73000000e+00   1.20000000e-03\n",
      "    1.60000000e-01]\n",
      " [  2.00000000e+00   3.00000000e+00   2.40000000e+00   2.49000000e-04\n",
      "    1.80000000e-01]\n",
      " [  3.00000000e+00   4.00000000e+00   3.39000000e+00   1.46000000e-05\n",
      "    2.10000000e-01]]\n"
     ]
    }
   ],
   "source": [
    "print super_k_numu"
   ]
  },
  {
   "cell_type": "code",
   "execution_count": 16,
   "metadata": {
    "collapsed": false
   },
   "outputs": [
    {
     "data": {
      "text/plain": [
       "<Container object of 3 artists>"
      ]
     },
     "execution_count": 16,
     "metadata": {},
     "output_type": "execute_result"
    },
    {
     "data": {
      "image/png": "[encoded data removed]",
      "text/plain": [
       "<matplotlib.figure.Figure at 0x1b782ba8>"
      ]
     },
     "metadata": {},
     "output_type": "display_data"
    }
   ],
   "source": [
    "plt.errorbar(e_numu,e_numu*sk_numu,yerr=err_numu*e_numu*sk_numu)"
   ]
  },
  {
   "cell_type": "code",
   "execution_count": null,
   "metadata": {
    "collapsed": true
   },
   "outputs": [],
   "source": []
  }
 ],
 "metadata": {
  "kernelspec": {
   "display_name": "Python 2",
   "language": "python",
   "name": "python2"
  },
  "language_info": {
   "codemirror_mode": {
    "name": "ipython",
    "version": 2
   },
   "file_extension": ".py",
   "mimetype": "text/x-python",
   "name": "python",
   "nbconvert_exporter": "python",
   "pygments_lexer": "ipython2",
   "version": "2.7.11"
  }
 },
 "nbformat": 4,
 "nbformat_minor": 0
}
