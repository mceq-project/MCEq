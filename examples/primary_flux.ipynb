{
 "cells": [
  {
   "cell_type": "markdown",
   "metadata": {},
   "source": [
    "Dependence on primary cosmic ray flux\n",
    "-----------------------------------"
   ]
  },
  {
   "cell_type": "code",
   "execution_count": 1,
   "metadata": {
    "collapsed": false
   },
   "outputs": [],
   "source": [
    "#basic imports and ipython setup\n",
    "%load_ext autoreload\n",
    "%matplotlib inline\n",
    "%autoreload 2\n",
    "import os\n",
    "import matplotlib.pyplot as plt\n",
    "import numpy as np\n",
    "os.chdir('..')\n",
    "\n",
    "#import solver related modules\n",
    "from MCEq.core import MCEqRun\n",
    "from mceq_config import config\n",
    "#import primary model choices\n",
    "import CRFluxModels as pm"
   ]
  },
  {
   "cell_type": "markdown",
   "metadata": {},
   "source": [
    "Create an instance of an MCEqRun class. Most of its areguments are contained in the `config` dictionary from the `mceq_config` module. Look into or edit `mceq_config.py`.\n",
    "\n",
    "If the initialization succeeds it will print out some information according to the debug level. "
   ]
  },
  {
   "cell_type": "code",
   "execution_count": 2,
   "metadata": {
    "collapsed": false
   },
   "outputs": [
    {
     "name": "stdout",
     "output_type": "stream",
     "text": [
      "\n",
      "Hadrons:\n",
      "\n",
      "\"p-bar\", \"p\", \"n-bar\", \"n\", \"pi+\", \"pi-\", \"K0L\", \"K+\", \n",
      "\"K-\"\n",
      "\n",
      "Mixed:\n",
      "\n",
      "\"Lambda0-bar\", \"Lambda0\", \"Xi0-bar\", \"Xi0\", \"K0S\", \"Xi--bar\", \"Xi-\", \"Sigma--bar\", \n",
      "\"Sigma-\", \"Sigma+-bar\", \"Sigma+\", \"Omega--bar\", \"Omega-\", \"D+\", \"D-\", \"Ds+\", \n",
      "\"Ds-\", \"D0\", \"D0-bar\", \"XiC+-bar\", \"XiC+\", \"tau+\", \"tau-\", \"LambdaC+-bar\", \n",
      "\"LambdaC+\", \"XiC0-bar\", \"XiC0\", \"OmegaC0-bar\", \"OmegaC0\", \"pi0\"\n",
      "\n",
      "Resonances:\n",
      "\n",
      "\"eta\", \"Sigma0-bar\", \"Sigma0\", \"D*+\", \"D*-\", \"eta*\", \"jpsi\", \"phi\", \n",
      "\"SigmaC0-bar\", \"SigmaC0\", \"SigmaC+-bar\", \"SigmaC+\", \"SigmaC++-bar\", \"SigmaC++\", \"omega\", \"Xi*0-bar\", \n",
      "\"Xi*0\", \"Xi*--bar\", \"Xi*-\", \"SigmaC*0-bar\", \"SigmaC*0\", \"SigmaC*++-bar\", \"SigmaC*++\", \"SigmaC*+-bar\", \n",
      "\"SigmaC*+\", \"K*0\", \"K*0-bar\", \"K*+\", \"K*-\", \"Sigma*+-bar\", \"Sigma*+\", \"Sigma*0-bar\", \n",
      "\"Sigma*0\", \"Sigma*--bar\", \"Sigma*-\", \"etaC\", \"rho+\", \"rho-\", \"rho0\", \"Delta--bar\", \n",
      "\"Delta0-bar\", \"Delta+-bar\", \"Delta++-bar\", \"Delta++\", \"Delta+\", \"Delta0\", \"Delta-\", \"D*0\", \n",
      "\"D*0-bar\", \"XiC*0-bar\", \"XiC*+-bar\", \"XiC*+\", \"XiC*0\", \"Ds*+\", \"Ds*-\"\n",
      "\n",
      "Leptons:\n",
      "\n",
      "\"nue\", \"numu\", \"nutau\", \"antinue\", \"antinumu\", \"antinutau\", \"nue\", \"numu\", \n",
      "\"nutau\", \"antinue\", \"antinumu\", \"antinutau\", \"mu-\", \"mu+\", \"mu-\", \"mu+\"\n",
      "\n",
      "Aliases:\n",
      "\"pr_nue\", \"pr_numu\", \"pr_nutau\", \"pi_nue\", \"pi_numu\", \"pi_nutau\", \"k_nue\", \"k_numu\", \n",
      "\"k_nutau\", \"obs_nue\", \"obs_numu\", \"obs_nutau\", \"pr_antinue\", \"pr_antinumu\", \"pr_antinutau\", \"pi_antinue\", \n",
      "\"pi_antinumu\", \"pi_antinutau\", \"k_antinue\", \"k_antinumu\", \"k_antinutau\", \"obs_antinue\", \"obs_antinumu\", \"obs_antinutau\", \n",
      "\"pr_mu-\", \"pi_mu-\", \"k_mu-\", \"obs_mu-\", \"pr_mu+\", \"pi_mu+\", \"k_mu+\", \"obs_mu+\"\n",
      "\n",
      "Total number of species: 87\n",
      "MCEqRun::set_interaction_model():  SIBYLL2.3_rc3b\n",
      "InteractionYields:set_interaction_model():: Model SIBYLL2.3_rc3b already loaded.\n",
      "MCEqRun::_init_default_matrices():Start filling matrices.\n",
      "C Matrix info:\n",
      "    density    : 0.0348761303416\n",
      "    shape      : (6264, 6264)\n",
      "D Matrix info:\n",
      "    density    : 0.00739719783751\n",
      "    shape      : (6264, 6264)\n",
      "MCEqRun::_init_default_matrices():Done filling matrices.\n",
      "MCEqRun::set_density_model():  CORSIKA ('BK_USStd', None)\n",
      "MCEqRun::set_theta_deg():  0.0\n",
      "CorsikaAtmosphere::calculate_density_spline(): Calculating spline of rho(X) for zenith 0.0 degrees.\n",
      ".. took 3.93s\n",
      "Average spline error: 2.02961401243e-16\n",
      "MCEqRun::set_primary_model():  Thunman None\n"
     ]
    }
   ],
   "source": [
    "mceq_run = MCEqRun(\n",
    "#provide the string of the interaction model\n",
    "interaction_model='SIBYLL2.3_rc3b',\n",
    "#primary cosmic ray flux model\n",
    "#support a tuple (primary model class (not instance!), arguments)\n",
    "primary_model=(pm.Thunman,None),#(pm.HillasGaisser2012, \"H3a\"),\n",
    "# Zenith angle in degrees. 0=vertical, 90=horizontal\n",
    "theta_deg=0.0,\n",
    "#expand the rest of the options from mceq_config.py\n",
    "**config\n",
    ")"
   ]
  },
  {
   "cell_type": "markdown",
   "metadata": {},
   "source": [
    "Solve and store results\n",
    "----------------------"
   ]
  },
  {
   "cell_type": "code",
   "execution_count": 3,
   "metadata": {
    "collapsed": false
   },
   "outputs": [
    {
     "name": "stdout",
     "output_type": "stream",
     "text": [
      "MCEqRun::set_primary_model():  HillasGaisser2012 H3a\n",
      "MCEqRun::set_theta_deg():  0.0\n",
      "Theta selection correponds to cached value, skipping calc.\n",
      "MCEqRun::_calculate_integration_path():\n",
      "MCEqRun::_forward_euler(): Solver will perform 4729 integration steps.\n"
     ]
    },
    {
     "ename": "ValueError",
     "evalue": "too many values to unpack",
     "output_type": "error",
     "traceback": [
      "\u001b[0;31m---------------------------------------------------------------------------\u001b[0m",
      "\u001b[0;31mValueError\u001b[0m                                Traceback (most recent call last)",
      "\u001b[0;32m<ipython-input-3-f1547c55ab47>\u001b[0m in \u001b[0;36m<module>\u001b[0;34m()\u001b[0m\n\u001b[1;32m     28\u001b[0m     \u001b[0;32mfor\u001b[0m \u001b[0mtheta\u001b[0m \u001b[0;32min\u001b[0m \u001b[0mangles\u001b[0m\u001b[0;34m:\u001b[0m\u001b[0;34m\u001b[0m\u001b[0m\n\u001b[1;32m     29\u001b[0m         \u001b[0mmceq_run\u001b[0m\u001b[0;34m.\u001b[0m\u001b[0mset_theta_deg\u001b[0m\u001b[0;34m(\u001b[0m\u001b[0mtheta\u001b[0m\u001b[0;34m)\u001b[0m\u001b[0;34m\u001b[0m\u001b[0m\n\u001b[0;32m---> 30\u001b[0;31m         \u001b[0mmceq_run\u001b[0m\u001b[0;34m.\u001b[0m\u001b[0msolve\u001b[0m\u001b[0;34m(\u001b[0m\u001b[0;34m)\u001b[0m\u001b[0;34m\u001b[0m\u001b[0m\n\u001b[0m\u001b[1;32m     31\u001b[0m         \u001b[0;31m#_conv means conventional (mostly pions and kaons)\u001b[0m\u001b[0;34m\u001b[0m\u001b[0;34m\u001b[0m\u001b[0m\n\u001b[1;32m     32\u001b[0m         flux['mu_conv'] += (mceq_run.get_solution('conv_mu+', mag)\n",
      "\u001b[0;32m/Users/afedynitch/git/MCEq/MCEq/core.pyc\u001b[0m in \u001b[0;36msolve\u001b[0;34m(self, **kwargs)\u001b[0m\n\u001b[1;32m    886\u001b[0m \u001b[0;34m\u001b[0m\u001b[0m\n\u001b[1;32m    887\u001b[0m         \u001b[0;32mif\u001b[0m \u001b[0mconfig\u001b[0m\u001b[0;34m[\u001b[0m\u001b[0;34m'integrator'\u001b[0m\u001b[0;34m]\u001b[0m \u001b[0;34m!=\u001b[0m \u001b[0;34m\"odepack\"\u001b[0m\u001b[0;34m:\u001b[0m\u001b[0;34m\u001b[0m\u001b[0m\n\u001b[0;32m--> 888\u001b[0;31m             \u001b[0mself\u001b[0m\u001b[0;34m.\u001b[0m\u001b[0m_forward_euler\u001b[0m\u001b[0;34m(\u001b[0m\u001b[0;34m**\u001b[0m\u001b[0mkwargs\u001b[0m\u001b[0;34m)\u001b[0m\u001b[0;34m\u001b[0m\u001b[0m\n\u001b[0m\u001b[1;32m    889\u001b[0m         \u001b[0;32melif\u001b[0m \u001b[0mconfig\u001b[0m\u001b[0;34m[\u001b[0m\u001b[0;34m'integrator'\u001b[0m\u001b[0;34m]\u001b[0m \u001b[0;34m==\u001b[0m \u001b[0;34m'odepack'\u001b[0m\u001b[0;34m:\u001b[0m\u001b[0;34m\u001b[0m\u001b[0m\n\u001b[1;32m    890\u001b[0m             \u001b[0mself\u001b[0m\u001b[0;34m.\u001b[0m\u001b[0m_odepack\u001b[0m\u001b[0;34m(\u001b[0m\u001b[0;34m**\u001b[0m\u001b[0mkwargs\u001b[0m\u001b[0;34m)\u001b[0m\u001b[0;34m\u001b[0m\u001b[0m\n",
      "\u001b[0;32m/Users/afedynitch/git/MCEq/MCEq/core.pyc\u001b[0m in \u001b[0;36m_forward_euler\u001b[0;34m(self, int_grid, grid_var)\u001b[0m\n\u001b[1;32m    987\u001b[0m \u001b[0;34m\u001b[0m\u001b[0m\n\u001b[1;32m    988\u001b[0m         self.solution, self.grid_sol = kernel(nsteps, dX, rho_inv,\n\u001b[0;32m--> 989\u001b[0;31m             self.int_m, self.dec_m, phi0, grid_idcs, self.progressBar)\n\u001b[0m\u001b[1;32m    990\u001b[0m \u001b[0;34m\u001b[0m\u001b[0m\n\u001b[1;32m    991\u001b[0m         \u001b[0mself\u001b[0m\u001b[0;34m.\u001b[0m\u001b[0mprogressBar\u001b[0m\u001b[0;34m.\u001b[0m\u001b[0mfinish\u001b[0m\u001b[0;34m(\u001b[0m\u001b[0;34m)\u001b[0m\u001b[0;34m\u001b[0m\u001b[0m\n",
      "\u001b[0;31mValueError\u001b[0m: too many values to unpack"
     ]
    }
   ],
   "source": [
    "#Define equidistant grid in cos(theta)\n",
    "angles = np.arccos(np.linspace(1,0,11))*180./np.pi\n",
    "\n",
    "#Power of energy to scale the flux\n",
    "mag = 3\n",
    "\n",
    "#obtain energy grid (nver changes) of the solution for the x-axis of the plots\n",
    "e_grid = mceq_run.e_grid\n",
    "\n",
    "p_spectrum_flux = []\n",
    "\n",
    "#Initialize empty grid\n",
    "for  pmcount, pmodel in enumerate([(pm.HillasGaisser2012,'H3a'),\n",
    "                                   (pm.HillasGaisser2012,'H4a'),\n",
    "                                   (pm.GaisserStanevTilav,'3-gen'),\n",
    "                                   (pm.GaisserStanevTilav,'4-gen')]):\n",
    "    \n",
    "    mceq_run.set_primary_model(*pmodel)\n",
    "    \n",
    "    flux = {}\n",
    "    for frac in ['mu_conv','mu_pr','mu_total',\n",
    "                 'numu_conv','numu_pr','numu_total',\n",
    "                 'nue_conv','nue_pr','nue_total','nutau_pr']:\n",
    "        flux[frac] = np.zeros_like(e_grid)\n",
    "        \n",
    "\n",
    "    #Sum fluxes, calculated for different angles\n",
    "    for theta in angles:\n",
    "        mceq_run.set_theta_deg(theta)\n",
    "        mceq_run.solve()\n",
    "        #_conv means conventional (mostly pions and kaons)\n",
    "        flux['mu_conv'] += (mceq_run.get_solution('conv_mu+', mag)\n",
    "                           + mceq_run.get_solution('conv_mu-', mag))\n",
    "\n",
    "        # _pr means prompt (the mother of the muon had a critical energy\n",
    "        # higher than a D meson. Includes all charm and direct resonance\n",
    "        # contribution)\n",
    "        flux['mu_pr'] += (mceq_run.get_solution('pr_mu+', mag)\n",
    "                         + mceq_run.get_solution('pr_mu-', mag))\n",
    "\n",
    "        # total means conventional + prompt\n",
    "        flux['mu_total'] += (mceq_run.get_solution('total_mu+', mag)\n",
    "                            + mceq_run.get_solution('total_mu-', mag))\n",
    "\n",
    "        # same meaning of prefixes for muon neutrinos as for muons\n",
    "        flux['numu_conv'] += (mceq_run.get_solution('conv_numu', mag)\n",
    "                             + mceq_run.get_solution('conv_antinumu', mag))\n",
    "\n",
    "        flux['numu_pr'] += (mceq_run.get_solution('pr_numu', mag)\n",
    "                           + mceq_run.get_solution('pr_antinumu', mag))\n",
    "\n",
    "        flux['numu_total'] += (mceq_run.get_solution('total_numu', mag)\n",
    "                              + mceq_run.get_solution('total_antinumu', mag))\n",
    "\n",
    "        # same meaning of prefixes for electron neutrinos as for muons\n",
    "        flux['nue_conv'] += (mceq_run.get_solution('conv_nue', mag)\n",
    "                            + mceq_run.get_solution('conv_antinue', mag))\n",
    "\n",
    "        flux['nue_pr'] += (mceq_run.get_solution('pr_nue', mag)\n",
    "                          + mceq_run.get_solution('pr_antinue', mag))\n",
    "\n",
    "        flux['nue_total'] += (mceq_run.get_solution('total_nue', mag)\n",
    "                             + mceq_run.get_solution('total_antinue', mag))\n",
    "\n",
    "\n",
    "        # since there are no conventional tau neutrinos, prompt=total\n",
    "        flux['nutau_pr'] += (mceq_run.get_solution('total_nutau', mag)\n",
    "                            + mceq_run.get_solution('total_antinutau', mag))\n",
    "\n",
    "    #average the results\n",
    "    for frac in ['mu_conv','mu_pr','mu_total',\n",
    "                 'numu_conv','numu_pr','numu_total',\n",
    "                 'nue_conv','nue_pr','nue_total','nutau_pr']:\n",
    "        flux[frac] = flux[frac]/float(len(angles))\n",
    "        \n",
    "    p_spectrum_flux.append((flux,mceq_run.pmodel.sname,mceq_run.pmodel.name)) "
   ]
  },
  {
   "cell_type": "markdown",
   "metadata": {},
   "source": [
    "Plot with matplotlib\n",
    "--------------------"
   ]
  },
  {
   "cell_type": "code",
   "execution_count": 23,
   "metadata": {
    "collapsed": false
   },
   "outputs": [
    {
     "data": {
      "image/png": "[encoded data removed]",
      "text/plain": [
       "<matplotlib.figure.Figure at 0x1848c7e10>"
      ]
     },
     "metadata": {},
     "output_type": "display_data"
    }
   ],
   "source": [
    "for pref, lab in [('numu_',r'\\nu_\\mu'), \n",
    "#                   ('mu_',r'\\mu'), \n",
    "#                   ('nue_',r'\\nu_e')\n",
    "                 ]:\n",
    "    plt.figure(figsize=(4.5, 3.5))\n",
    "    for (flux, p_sname, p_name), col in zip(p_spectrum_flux,['k','r','g','b']):\n",
    "        \n",
    "        plt.loglog(e_grid, flux[pref + 'total'], color=col, ls='-', lw=2.5,\n",
    "                  label=p_sname, alpha=0.4)\n",
    "        plt.loglog(e_grid, flux[pref + 'conv'], color=col, ls='--', lw=1,\n",
    "                   label='_nolabel_')\n",
    "        plt.loglog(e_grid, flux[pref + 'pr'], color=col,ls='-', lw=1, \n",
    "                   label='_nolabel_')\n",
    "    plt.xlim(50,1e9)\n",
    "    plt.ylim(1e-6,1)\n",
    "    plt.xlabel(r\"$E_{{{0}}}$ [GeV]\".format(lab))\n",
    "    plt.ylabel(r\"$\\Phi_{\" + lab + \"}$ (E/GeV)$^{\" + str(mag) +\" }$\" + \n",
    "               \"(cm$^{2}$ s sr GeV)$^{-1}$\")\n",
    "    plt.legend(loc='upper right')\n",
    "    plt.tight_layout()\n",
    "    save(pref + 'flux')"
   ]
  },
  {
   "cell_type": "markdown",
   "metadata": {},
   "source": [
    "Save as in ASCII file for other types of processing\n",
    "---------------------------------------------------"
   ]
  },
  {
   "cell_type": "code",
   "execution_count": null,
   "metadata": {
    "collapsed": false
   },
   "outputs": [],
   "source": [
    "np.savetxt(open(os.path.join(desktop, 'my_flux_calculation.txt'),'w'),\n",
    "zip(e_grid, \n",
    "    flux['mu_conv'],flux['mu_pr'],flux['mu_total'],\n",
    "    flux['numu_conv'],flux['numu_pr'],flux['numu_total'],\n",
    "    flux['nue_conv'],flux['nue_pr'],flux['nue_total'],\n",
    "    flux['nutau_pr']),\n",
    "fmt='%6.5E',\n",
    "header=('lepton flux scaled with E**{0}. Order (E, mu_conv, mu_pr, mu_total, ' +\n",
    "        'numu_conv, numu_pr, numu_total, nue_conv, nue_pr, nue_total, ' +\n",
    "        'nutau_pr').format(mag)\n",
    ")"
   ]
  },
  {
   "cell_type": "code",
   "execution_count": 15,
   "metadata": {
    "collapsed": true
   },
   "outputs": [],
   "source": [
    "egrid = mceq_run.e_grid\n",
    "iam_str = mceq_run.iamodel_name\n",
    "plotloc = os.path.join(os.path.expanduser(\"~\"),'Google Drive/Plots/plots_new_sibyll/ICRC2015')\n",
    "\n",
    "def make_naked(ax):\n",
    "    ax.spines['right'].set_visible(False)\n",
    "    ax.spines['top'].set_visible(False)\n",
    "    ax.xaxis.set_ticks_position('bottom')\n",
    "    ax.yaxis.tick_left()\n",
    "    \n",
    "def save(plotname):\n",
    "    plt.savefig(os.path.join(plotloc,plotname + '.pdf'))\n",
    "    \n",
    "def pickle_data(obj, fname):\n",
    "    import cPickle as pickle\n",
    "    pickle.dump(obj,open(os.path.join(plotloc,fname + '.pic'),'wb'),protocol=-1)\n",
    "\n",
    "def unpickle_data(fname):\n",
    "    import cPickle as pickle\n",
    "    return pickle.load(open(os.path.join(plotloc,fname + '.pic'),'rb'))"
   ]
  },
  {
   "cell_type": "code",
   "execution_count": null,
   "metadata": {
    "collapsed": true
   },
   "outputs": [],
   "source": []
  }
 ],
 "metadata": {
  "kernelspec": {
   "display_name": "Python 2",
   "language": "python",
   "name": "python2"
  },
  "language_info": {
   "codemirror_mode": {
    "name": "ipython",
    "version": 2
   },
   "file_extension": ".py",
   "mimetype": "text/x-python",
   "name": "python",
   "nbconvert_exporter": "python",
   "pygments_lexer": "ipython2",
   "version": "2.7.10"
  }
 },
 "nbformat": 4,
 "nbformat_minor": 0
}
