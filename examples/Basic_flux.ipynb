{
 "cells": [
  {
   "cell_type": "markdown",
   "metadata": {},
   "source": [
    "Simplest possible example\n",
    "--------------------------\n",
    "\n",
    "Compute the fluxes of atmospheric leptons for a standard set of models at a fixed zenith angle."
   ]
  },
  {
   "cell_type": "code",
   "execution_count": 1,
   "metadata": {},
   "outputs": [],
   "source": [
    "#import primary model choices\n",
    "import crflux.models as pm\n",
    "import matplotlib.pyplot as plt\n",
    "import numpy as np\n",
    "\n",
    "#import solver related modules\n",
    "from MCEq.core import MCEqRun"
   ]
  },
  {
   "cell_type": "markdown",
   "metadata": {},
   "source": [
    "Create an instance of an MCEqRun class. Most options are defined in the `mceq_config` module, and do not require change. Look into `mceq_config.py` or use the documentation.\n",
    "\n",
    "If the initialization succeeds it will print out some information according to the debug level. "
   ]
  },
  {
   "cell_type": "code",
   "execution_count": 2,
   "metadata": {},
   "outputs": [
    {
     "name": "stdout",
     "output_type": "stream",
     "text": [
      "MCEqRun::set_interaction_model(): SIBYLL23C\n",
      "ParticleManager::_init_default_tracking(): Initializing default tracking categories (pi, K, mu)\n",
      "MCEqRun::set_density_model(): Setting density profile to CORSIKA ('BK_USStd', None)\n",
      "MCEqRun::set_primary_model(): HillasGaisser2012 H3a\n"
     ]
    }
   ],
   "source": [
    "mceq_run = MCEqRun(\n",
    "#provide the string of the interaction model\n",
    "interaction_model='SIBYLL2.3c',\n",
    "#primary cosmic ray flux model\n",
    "primary_model = (pm.HillasGaisser2012, \"H3a\"),\n",
    "# Zenith angle in degrees. 0=vertical, 90=horizontal\n",
    "theta_deg=0.0\n",
    ")"
   ]
  },
  {
   "cell_type": "markdown",
   "metadata": {},
   "source": [
    "__________\n",
    "\n",
    "If everything succeeds than the last message should be something like\n",
    "\n",
    "`MCEqRun::set_primary_model():  HillasGaisser2012 H3a`.\n"
   ]
  },
  {
   "cell_type": "markdown",
   "metadata": {},
   "source": [
    "List all available particle species\n",
    "-----------------------------------"
   ]
  },
  {
   "cell_type": "code",
   "execution_count": 6,
   "metadata": {},
   "outputs": [
    {
     "name": "stdout",
     "output_type": "stream",
     "text": [
      "Hadrons and stable particles:\n",
      "\"pbar-\", \"p+\"\n",
      "\n",
      "Mixed:\n",
      "\"pi0\", \"K_L0\", \"pi-\", \"pi+\", \"K_S0\", \n",
      "\"K-\", \"K+\", \"D-\", \"D+\", \"Dbar0\", \n",
      "\"D0\", \"D_s-\", \"D_s+\", \"nbar0\", \"n0\", \n",
      "\"Lambdabar0\", \"Lambda0\"\n",
      "\n",
      "Resonances:\n",
      "\n",
      "\n",
      "Leptons:\n",
      "\"e+\", \"e-\", \"antinue\", \"nue\", \"mu+_l\", \n",
      "\"mu+\", \"mu+_r\", \"mu-_l\", \"mu-\", \"mu-_r\", \n",
      "\"antinumu\", \"numu\", \"antinutau\", \"nutau\", \"gamma\"\n",
      "\n",
      "Tracking:\n",
      "\"pi_antinue\", \"pi_nue\", \"pi_mu+_l\", \"pi_mu+_r\", \"pi_mu-_l\", \n",
      "\"pi_mu-_r\", \"pi_antinumu\", \"pi_numu\", \"k_antinue\", \"k_nue\", \n",
      "\"k_mu+_l\", \"k_mu+_r\", \"k_mu-_l\", \"k_mu-_r\", \"k_antinumu\", \n",
      "\"k_numu\", \"mulr_antinue\", \"mulr_nue\", \"mulr_antinumu\", \"mulr_numu\", \n",
      "\"mu_h0_antinue\", \"mu_h0_nue\", \"mu_h0_antinumu\", \"mu_h0_numu\", \"mu_antinue\", \n",
      "\"mu_nue\", \"mu_antinumu\", \"mu_numu\", \"K0_antinue\", \"K0_nue\", \n",
      "\"K0_mu+\", \"K0_mu-\", \"K0_antinumu\", \"K0_numu\", \"prcas_antinue\", \n",
      "\"prcas_nue\", \"prcas_mu+\", \"prcas_mu-\", \"prcas_antinumu\", \"prcas_numu\", \n",
      "\"prcas_antinutau\", \"prcas_nutau\", \"prres_antinue\", \"prres_nue\", \"prres_mu+\", \n",
      "\"prres_mu-\", \"prres_antinumu\", \"prres_numu\"\n",
      "\n",
      "Total number of species: 82\n"
     ]
    }
   ],
   "source": [
    "mceq_run.pman.print_particle_tables(0)"
   ]
  },
  {
   "cell_type": "markdown",
   "metadata": {},
   "source": [
    "Define variables and angles\n",
    "-------------------------"
   ]
  },
  {
   "cell_type": "code",
   "execution_count": 7,
   "metadata": {},
   "outputs": [],
   "source": [
    "#Power of energy to scale the flux (the results will be returned as E**mag * flux)\n",
    "mag = 3\n",
    "\n",
    "#obtain energy grid (fixed) of the solution for the x-axis of the plots\n",
    "e_grid = mceq_run.e_grid\n",
    "\n",
    "#Dictionary for results\n",
    "flux = {}\n",
    "\n",
    "#Define a zenith angle, counted positively from vertical direction. Theta = 0. means vertical, theta = 90. horizontal\n",
    "theta = 60."
   ]
  },
  {
   "cell_type": "markdown",
   "metadata": {},
   "source": [
    "Calculate average flux\n",
    "---------------------"
   ]
  },
  {
   "cell_type": "code",
   "execution_count": 8,
   "metadata": {},
   "outputs": [],
   "source": [
    "#Set the zenith angle\n",
    "mceq_run.set_theta_deg(theta)\n",
    "#Run the solver\n",
    "mceq_run.solve()"
   ]
  },
  {
   "cell_type": "markdown",
   "metadata": {},
   "source": [
    "Obtain solution at the surface\n",
    "-------------------------------\n",
    "\n",
    "The fluxes of the particle (e.g., $\\mu^+$) and the anti-particle ($\\mu^-$) are summed in this example."
   ]
  },
  {
   "cell_type": "code",
   "execution_count": 9,
   "metadata": {},
   "outputs": [],
   "source": [
    "#_conv means conventional (mostly pions and kaons)\n",
    "mu_conv = (mceq_run.get_solution('conv_mu+', mag)\n",
    "           + mceq_run.get_solution('conv_mu-', mag))\n",
    "\n",
    "# _pr means prompt (the mother of the muon had a critical energy\n",
    "# higher or equal to that of a D meson. Includes all charm and direct resonance\n",
    "# contribution)\n",
    "mu_pr = (mceq_run.get_solution('pr_mu+', mag)\n",
    "         + mceq_run.get_solution('pr_mu-', mag))\n",
    "\n",
    "# total means conventional + prompt\n",
    "mu_total = (mceq_run.get_solution('total_mu+', mag)\n",
    "            + mceq_run.get_solution('total_mu-', mag))\n",
    "\n",
    "# Muon charge ratio\n",
    "mu_charge = (mceq_run.get_solution('total_mu+', mag)\n",
    "            / mceq_run.get_solution('total_mu-', mag))\n",
    "\n",
    "# same meaning of prefixes for muon neutrinos as for muons\n",
    "numu_conv = (mceq_run.get_solution('conv_numu', mag)\n",
    "             + mceq_run.get_solution('conv_antinumu', mag))\n",
    "\n",
    "numu_pr = (mceq_run.get_solution('pr_numu', mag)\n",
    "           + mceq_run.get_solution('pr_antinumu', mag))\n",
    "\n",
    "numu_total = (mceq_run.get_solution('total_numu', mag)\n",
    "              + mceq_run.get_solution('total_antinumu', mag))\n",
    "\n",
    "numu_ratio = (mceq_run.get_solution('total_numu', mag)\n",
    "              / mceq_run.get_solution('total_antinumu', mag))\n",
    "\n",
    "# same meaning of prefixes for electron neutrinos as for muons\n",
    "nue_conv = (mceq_run.get_solution('conv_nue', mag)\n",
    "            + mceq_run.get_solution('conv_antinue', mag))\n",
    "\n",
    "nue_pr = (mceq_run.get_solution('pr_nue', mag)\n",
    "          + mceq_run.get_solution('pr_antinue', mag))\n",
    "\n",
    "nue_total = (mceq_run.get_solution('total_nue', mag)\n",
    "             + mceq_run.get_solution('total_antinue', mag))\n",
    "\n",
    "nue_ratio = (mceq_run.get_solution('total_nue', mag)\n",
    "             / mceq_run.get_solution('total_antinue', mag))\n",
    "\n",
    "\n",
    "\n",
    "# since there are no conventional tau neutrinos, prompt=total\n",
    "nutau_total = (mceq_run.get_solution('total_nutau', mag)\n",
    "            + mceq_run.get_solution('total_antinutau', mag))\n",
    "nutau_pr = (mceq_run.get_solution('pr_nutau', mag)\n",
    "            + mceq_run.get_solution('pr_antinutau', mag))"
   ]
  },
  {
   "cell_type": "markdown",
   "metadata": {},
   "source": [
    "Plot using matplotlib\n",
    "----------------------"
   ]
  },
  {
   "cell_type": "code",
   "execution_count": 10,
   "metadata": {},
   "outputs": [
    {
     "data": {
      "image/png": "[encoded data removed]",
      "text/plain": [
       "<Figure size 302.4x216 with 1 Axes>"
      ]
     },
     "metadata": {
      "needs_background": "light"
     },
     "output_type": "display_data"
    },
    {
     "data": {
      "image/png": "[encoded data removed]",
      "text/plain": [
       "<Figure size 302.4x216 with 1 Axes>"
      ]
     },
     "metadata": {
      "needs_background": "light"
     },
     "output_type": "display_data"
    },
    {
     "data": {
      "image/png": "[encoded data removed]",
      "text/plain": [
       "<Figure size 302.4x216 with 1 Axes>"
      ]
     },
     "metadata": {
      "needs_background": "light"
     },
     "output_type": "display_data"
    },
    {
     "data": {
      "image/png": "[encoded data removed]",
      "text/plain": [
       "<Figure size 302.4x216 with 1 Axes>"
      ]
     },
     "metadata": {
      "needs_background": "light"
     },
     "output_type": "display_data"
    },
    {
     "data": {
      "image/png": "[encoded data removed]",
      "text/plain": [
       "<Figure size 302.4x216 with 1 Axes>"
      ]
     },
     "metadata": {
      "needs_background": "light"
     },
     "output_type": "display_data"
    }
   ],
   "source": [
    "# for pref, lab in [('numu_',r'\\nu_\\mu'), ('nue_',r'\\nu_e')]:\n",
    "\n",
    "#Muons\n",
    "plt.figure(figsize=(4.2, 3))\n",
    "plt.loglog(e_grid, mu_total, color='k', ls='-', lw=1.5)\n",
    "plt.loglog(e_grid, mu_conv, ls='-.', lw=1.5,\n",
    "           label=r'conventional $\\mu$')\n",
    "plt.loglog(e_grid, mu_pr, ls='--', lw=1.5, \n",
    "           label=r'prompt $\\mu$')\n",
    "plt.xlim(10,1e7)\n",
    "plt.ylim(1e-5,10)\n",
    "plt.xlabel(r\"$E_{\\mu}$ [GeV]\")\n",
    "plt.ylabel(r\"$\\Phi_{\\mu}$ (E/GeV)$^{\" + str(mag) +\" }$\" + \n",
    "           \"(cm$^{2}$ s sr GeV)$^{-1}$\")\n",
    "plt.legend(loc='upper right',frameon=False,numpoints=1,fontsize='medium')\n",
    "plt.tight_layout()\n",
    "\n",
    "#To save the plot use\n",
    "# plt.savefig('H3a_60_sib23c_whatever.pdf')\n",
    "\n",
    "#Muon neutrinos\n",
    "plt.figure(figsize=(4.2, 3))\n",
    "plt.loglog(e_grid, numu_total, color='k', ls='-', lw=1.5)\n",
    "plt.loglog(e_grid, numu_conv, ls='-.', lw=1.5,\n",
    "           label=r'conventional $\\nu_\\mu$')\n",
    "plt.loglog(e_grid, numu_pr, ls='--', lw=1.5, \n",
    "           label=r'prompt $\\nu_\\mu$')\n",
    "plt.xlim(10,1e7)\n",
    "plt.ylim(1e-5,10)\n",
    "plt.xlabel(r\"$E_{\\nu_\\mu}$ [GeV]\")\n",
    "plt.ylabel(r\"$\\Phi_{\\nu_\\mu}$ (E/GeV)$^{\" + str(mag) +\" }$\" + \n",
    "           \"(cm$^{2}$ s sr GeV)$^{-1}$\")\n",
    "plt.legend(loc='upper right',frameon=False,numpoints=1,fontsize='medium')\n",
    "plt.tight_layout()\n",
    "\n",
    "#Electron neutrinos\n",
    "plt.figure(figsize=(4.2, 3))\n",
    "plt.loglog(e_grid, nue_total, color='k', ls='-', lw=1.5)\n",
    "plt.loglog(e_grid, nue_conv, ls='-.', lw=1.5,\n",
    "           label=r'conventional $\\nu_e$')\n",
    "plt.loglog(e_grid, nue_pr, ls='--', lw=1.5, \n",
    "           label=r'prompt $\\nu_e$')\n",
    "plt.xlim(10,1e7)\n",
    "plt.ylim(1e-5,10)\n",
    "plt.xlabel(r\"$E_{\\nu_e}$ [GeV]\")\n",
    "plt.ylabel(r\"$\\Phi_{\\nu_e}$ (E/GeV)$^{\" + str(mag) +\" }$\" + \n",
    "           \"(cm$^{2}$ s sr GeV)$^{-1}$\")\n",
    "plt.legend(loc='upper right',frameon=False,numpoints=1,fontsize='medium')\n",
    "plt.tight_layout()\n",
    "\n",
    "#Tau neutrinos\n",
    "plt.figure(figsize=(4.2, 3))\n",
    "plt.loglog(e_grid, nutau_total, color='k', ls='-', lw=1.5)\n",
    "plt.loglog(e_grid, nutau_pr, ls='--', lw=1.5, \n",
    "           label=r'prompt $\\nu_\\tau$')\n",
    "plt.xlim(10,1e7)\n",
    "plt.ylim(1e-7,1e-2)\n",
    "plt.xlabel(r\"$E_{\\nu_\\tau}$ [GeV]\")\n",
    "plt.ylabel(r\"$\\Phi_{\\nu_\\tau}$ (E/GeV)$^{\" + str(mag) +\" }$\" + \n",
    "           \"(cm$^{2}$ s sr GeV)$^{-1}$\")\n",
    "plt.legend(loc='upper right',frameon=False,numpoints=1,fontsize='medium')\n",
    "plt.tight_layout()\n",
    "\n",
    "#Muons\n",
    "plt.figure(figsize=(4.2, 3))\n",
    "plt.semilogx(e_grid, mu_charge, color='k', ls='-', lw=1.5, label=r'$\\mu^+/\\mu^-$')\n",
    "plt.semilogx(e_grid, numu_ratio, color='r', ls='-', lw=1.5, label=r'$\\nu_\\mu/\\bar{\\nu}_\\mu$')\n",
    "plt.semilogx(e_grid, nue_ratio, color='b', ls='-', lw=1.5, label=r'$\\nu_e/\\bar{\\nu}_e$')\n",
    "# plt.semilogx(e_grid, 0.1*numu_total/nue_total, color='cyan', ls='-', \n",
    "#              lw=1.5, label=r'$0.1 \\cdot \\nu_\\mu/\\nu_e$')\n",
    "plt.xlim(10,1e7)\n",
    "plt.ylim(1,2)\n",
    "plt.xlabel(r\"$E_{\\rm lepton}$ [GeV]\")\n",
    "plt.ylabel(r\"Flux ratios\")\n",
    "plt.legend(loc='upper left',frameon=False,numpoints=1,fontsize='medium')\n",
    "plt.tight_layout()"
   ]
  },
  {
   "cell_type": "markdown",
   "metadata": {},
   "source": [
    "Save as in ASCII file for other types of processing\n",
    "-----------------------------------------------------\n",
    "\n",
    "The block below will save the results in an ASCII file for further processing."
   ]
  },
  {
   "cell_type": "code",
   "execution_count": 18,
   "metadata": {
    "collapsed": true
   },
   "outputs": [],
   "source": [
    "np.savetxt(open('H3a_theta_60_sib23c.txt','w'),\n",
    "zip(e_grid, \n",
    "    mu_conv,mu_pr,mu_total,\n",
    "    numu_conv,numu_pr,numu_total,\n",
    "    nue_conv,nue_pr,nue_total,\n",
    "    nutau_pr),\n",
    "fmt='%6.5E',\n",
    "header=('lepton flux scaled with E**{0}. Order (E, mu_conv, mu_pr, mu_total, ' +\n",
    "        'numu_conv, numu_pr, numu_total, nue_conv, nue_pr, nue_total, ' +\n",
    "        'nutau_pr').format(mag)\n",
    ")"
   ]
  }
 ],
 "metadata": {
  "kernelspec": {
   "display_name": "Python 3",
   "language": "python",
   "name": "python3"
  },
  "language_info": {
   "codemirror_mode": {
    "name": "ipython",
    "version": 3
   },
   "file_extension": ".py",
   "mimetype": "text/x-python",
   "name": "python",
   "nbconvert_exporter": "python",
   "pygments_lexer": "ipython3",
   "version": "3.7.3"
  }
 },
 "nbformat": 4,
 "nbformat_minor": 2
}
