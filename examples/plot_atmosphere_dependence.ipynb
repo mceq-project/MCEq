{
 "cells": [
  {
   "cell_type": "markdown",
   "metadata": {},
   "source": [
    "Calculate flux dependence on zenith and/or atmosphere\n",
    "-----------------------------------------------------\n",
    "\n",
    "This notebook creates *Figure 5* from the proceedings. Since there some more calculations involved it will take more time - up to tens of minutes depending on your hardware.\n",
    "\n",
    "If running for the first time, a cache file will be created to store the interpolation parameters for the integrated density profiles. The second run will use the cache and run much quicker.\n",
    "\n",
    "Note: When using the **native** Python interface to NRLMSISE-00, the depth integration is **extremely slow** (1-3 minutes). As soon as the lincese questions with the ctypes interface to the pure-C code are solved this will be not an issue."
   ]
  },
  {
   "cell_type": "code",
   "execution_count": 1,
   "metadata": {
    "collapsed": false
   },
   "outputs": [],
   "source": [
    "#import the usual modules\n",
    "%load_ext autoreload\n",
    "%matplotlib inline\n",
    "%autoreload 2\n",
    "import os\n",
    "from os.path import join\n",
    "os.chdir('..')\n",
    "import matplotlib.pyplot as plt\n",
    "import numpy as np\n",
    "\n",
    "from MCEq.core import MCEqRun\n",
    "import CRFluxModels as pm\n",
    "from mceq_config import mceq_config_without"
   ]
  },
  {
   "cell_type": "markdown",
   "metadata": {},
   "source": [
    "Initialize the `mceq_run` object\n",
    "--------------------------------"
   ]
  },
  {
   "cell_type": "code",
   "execution_count": 5,
   "metadata": {
    "collapsed": false
   },
   "outputs": [
    {
     "name": "stdout",
     "output_type": "stream",
     "text": [
      "\n",
      "Hadrons:\n",
      "\n",
      "\"p-bar\", \"p\", \"n-bar\", \"n\", \"pi+\", \"pi-\", \"K0L\", \"K+\", \n",
      "\"K-\"\n",
      "\n",
      "Mixed:\n",
      "\n",
      "\"Lambda0-bar\", \"Lambda0\", \"Xi0-bar\", \"Xi0\", \"K0S\", \"Xi--bar\", \"Xi-\", \"Sigma--bar\", \n",
      "\"Sigma-\", \"Sigma+-bar\", \"Sigma+\", \"Omega--bar\", \"Omega-\", \"D+\", \"D-\", \"Ds+\", \n",
      "\"Ds-\", \"D0\", \"D0-bar\", \"XiC+-bar\", \"XiC+\", \"tau+\", \"tau-\", \"LambdaC+-bar\", \n",
      "\"LambdaC+\", \"XiC0-bar\", \"XiC0\", \"OmegaC0-bar\", \"OmegaC0\", \"pi0\"\n",
      "\n",
      "Resonances:\n",
      "\n",
      "\"eta\", \"Sigma0-bar\", \"Sigma0\", \"D*+\", \"D*-\", \"eta*\", \"jpsi\", \"phi\", \n",
      "\"SigmaC0-bar\", \"SigmaC0\", \"SigmaC+-bar\", \"SigmaC+\", \"SigmaC++-bar\", \"SigmaC++\", \"omega\", \"Xi*0-bar\", \n",
      "\"Xi*0\", \"Xi*--bar\", \"Xi*-\", \"SigmaC*0-bar\", \"SigmaC*0\", \"SigmaC*++-bar\", \"SigmaC*++\", \"SigmaC*+-bar\", \n",
      "\"SigmaC*+\", \"K*0\", \"K*0-bar\", \"K*+\", \"K*-\", \"Sigma*+-bar\", \"Sigma*+\", \"Sigma*0-bar\", \n",
      "\"Sigma*0\", \"Sigma*--bar\", \"Sigma*-\", \"etaC\", \"rho+\", \"rho-\", \"rho0\", \"Delta--bar\", \n",
      "\"Delta0-bar\", \"Delta+-bar\", \"Delta++-bar\", \"Delta++\", \"Delta+\", \"Delta0\", \"Delta-\", \"D*0\", \n",
      "\"D*0-bar\", \"XiC*0-bar\", \"XiC*+-bar\", \"XiC*+\", \"XiC*0\", \"Ds*+\", \"Ds*-\"\n",
      "\n",
      "Leptons:\n",
      "\n",
      "\"nue\", \"numu\", \"nutau\", \"antinue\", \"antinumu\", \"antinutau\", \"mu-\", \"mu+\"\n",
      "\n",
      "Aliases:\n",
      "\"pr_nue\", \"pr_numu\", \"pr_nutau\", \"pi_nue\", \"pi_numu\", \"pi_nutau\", \"k_nue\", \"k_numu\", \n",
      "\"k_nutau\", \"obs_nue\", \"obs_numu\", \"obs_nutau\", \"pr_antinue\", \"pr_antinumu\", \"pr_antinutau\", \"pi_antinue\", \n",
      "\"pi_antinumu\", \"pi_antinutau\", \"k_antinue\", \"k_antinumu\", \"k_antinutau\", \"obs_antinue\", \"obs_antinumu\", \"obs_antinutau\", \n",
      "\"pr_mu-\", \"pi_mu-\", \"k_mu-\", \"obs_mu-\", \"pr_mu+\", \"pi_mu+\", \"k_mu+\", \"obs_mu+\"\n",
      "\n",
      "Total number of species: 79\n",
      "MCEqRun::set_interaction_model():  SIBYLL2.3_rc1\n",
      "InteractionYields:set_interaction_model():: Model SIBYLL2.3_rc1 already loaded.\n",
      "MCEqRun::_init_default_matrices():Start filling matrices.\n",
      "MCEqRun::_convert_to_sparse():Converting to sparse (CSR) matrix format.\n",
      "C Matrix info:\n",
      "    density    : 4.22%\n",
      "    shape      : 5688 x 5688\n",
      "    nnz        : 1365972\n",
      "D Matrix info:\n",
      "    density    : 0.90%\n",
      "    shape      : 5688 x 5688\n",
      "    nnz        : 290105\n",
      "MCEqRun::_init_default_matrices():Done filling matrices.\n",
      "MCEqRun::set_primary_model():  HillasGaisser2012 H3a\n"
     ]
    }
   ],
   "source": [
    "mceq_run = MCEqRun(\n",
    "\n",
    "interaction_model='SIBYLL2.3_rc1',\n",
    "\n",
    "primary_model=(pm.HillasGaisser2012, \"H3a\"),\n",
    "#Do not provide any default values to avoid unnecessary initilizations\n",
    "theta_deg=None,\n",
    "density_model=None,\n",
    "\n",
    "#Exclude the atmopheric setting from the configuration file\n",
    "**mceq_config_without(['density_model'])\n",
    "\n",
    ")"
   ]
  },
  {
   "cell_type": "markdown",
   "metadata": {},
   "source": [
    "Define what to calculate\n",
    "------------------------\n",
    "\n",
    "This example will calculate the flux for 5 different atmospheric profiles and 2 zenith angles. Zenith of 0 means vertical and 90 horizontal respectively. Note that the more inclide the shower trajectory is, the more integration steps *(read: calculation time)* are necessary. The total (conventional + prompt) fluxes will be stored in the `*_dict` dictionaries for plotting in the next step."
   ]
  },
  {
   "cell_type": "code",
   "execution_count": 7,
   "metadata": {
    "collapsed": false
   },
   "outputs": [
    {
     "name": "stdout",
     "output_type": "stream",
     "text": [
      "MCEqRun::set_density_model():  CORSIKA ('PL_SouthPole', 'January')\n",
      "MCEqRun::set_theta_deg():  0.0\n",
      "CorsikaAtmosphere::calculate_density_spline(): Calculating spline of rho(X) for zenith 0.0 degrees.\n",
      ".. took 2.28s\n",
      "Average spline error: 2.00977967792e-16\n",
      "MCEqRun::_calculate_integration_path():\n",
      "MCEqRun::_forward_euler(): Solver will perform 4729 integration steps.\n",
      "\n",
      "MCEqRun::_forward_euler(): time elapsed during integration: 3.7389998436 sec\n",
      "MCEqRun::set_theta_deg():  90.0\n",
      "CorsikaAtmosphere::calculate_density_spline(): Calculating spline of rho(X) for zenith 90.0 degrees.\n",
      ".. took 1.99s\n",
      "Average spline error: 1.98974763929e-16\n",
      "MCEqRun::_calculate_integration_path():\n",
      "MCEqRun::_forward_euler(): Solver will perform 50471 integration steps.\n",
      "\n",
      "MCEqRun::_forward_euler(): time elapsed during integration: 49.5599999428 sec\n",
      "MCEqRun::set_density_model():  CORSIKA ('PL_SouthPole', 'August')\n",
      "MCEqRun::set_theta_deg():  0.0\n",
      "CorsikaAtmosphere::calculate_density_spline(): Calculating spline of rho(X) for zenith 0.0 degrees.\n",
      ".. took 2.26s\n",
      "Average spline error: 1.95664012548e-16\n",
      "MCEqRun::_calculate_integration_path():\n",
      "MCEqRun::_forward_euler(): Solver will perform 4731 integration steps.\n",
      "\n",
      "MCEqRun::_forward_euler(): time elapsed during integration: 3.55399990082 sec\n",
      "MCEqRun::set_theta_deg():  90.0\n",
      "CorsikaAtmosphere::calculate_density_spline(): Calculating spline of rho(X) for zenith 90.0 degrees.\n",
      ".. took 2.24s\n",
      "Average spline error: 1.97045039721e-16\n",
      "MCEqRun::_calculate_integration_path():\n",
      "MCEqRun::_forward_euler(): Solver will perform 50470 integration steps.\n",
      "\n",
      "MCEqRun::_forward_euler(): time elapsed during integration: 61.2150001526 sec\n",
      "MCEqRun::set_density_model():  MSIS00 ('SouthPole', 'January')\n"
     ]
    },
    {
     "ename": "ImportError",
     "evalue": "No module named c_msis_interface",
     "output_type": "error",
     "traceback": [
      "\u001b[1;31m---------------------------------------------------------------------------\u001b[0m",
      "\u001b[1;31mImportError\u001b[0m                               Traceback (most recent call last)",
      "\u001b[1;32m<ipython-input-7-33e50d9fba4f>\u001b[0m in \u001b[0;36m<module>\u001b[1;34m()\u001b[0m\n\u001b[0;32m      7\u001b[0m \u001b[1;33m\u001b[0m\u001b[0m\n\u001b[0;32m      8\u001b[0m \u001b[1;33m\u001b[0m\u001b[0m\n\u001b[1;32m----> 9\u001b[1;33m     \u001b[0mmceq_run\u001b[0m\u001b[1;33m.\u001b[0m\u001b[0mset_density_model\u001b[0m\u001b[1;33m(\u001b[0m\u001b[0matm_tup\u001b[0m\u001b[1;33m[\u001b[0m\u001b[1;36m0\u001b[0m\u001b[1;33m]\u001b[0m\u001b[1;33m)\u001b[0m\u001b[1;33m\u001b[0m\u001b[0m\n\u001b[0m\u001b[0;32m     10\u001b[0m     \u001b[1;32mfor\u001b[0m \u001b[0mtheta\u001b[0m \u001b[1;32min\u001b[0m \u001b[1;33m[\u001b[0m\u001b[1;36m0.\u001b[0m\u001b[1;33m,\u001b[0m \u001b[1;36m90.\u001b[0m\u001b[1;33m]\u001b[0m\u001b[1;33m:\u001b[0m\u001b[1;33m\u001b[0m\u001b[0m\n\u001b[0;32m     11\u001b[0m \u001b[1;33m\u001b[0m\u001b[0m\n",
      "\u001b[1;32mC:\\Users\\afedy\\Source\\Repos\\MCEq\\MCEq\\core.pyc\u001b[0m in \u001b[0;36mset_density_model\u001b[1;34m(self, density_config)\u001b[0m\n\u001b[0;32m    746\u001b[0m \u001b[1;33m\u001b[0m\u001b[0m\n\u001b[0;32m    747\u001b[0m         \u001b[1;32mif\u001b[0m \u001b[0mbase_model\u001b[0m \u001b[1;33m==\u001b[0m \u001b[1;34m'MSIS00'\u001b[0m\u001b[1;33m:\u001b[0m\u001b[1;33m\u001b[0m\u001b[0m\n\u001b[1;32m--> 748\u001b[1;33m             \u001b[0mself\u001b[0m\u001b[1;33m.\u001b[0m\u001b[0mdensity_model\u001b[0m \u001b[1;33m=\u001b[0m \u001b[0mdprof\u001b[0m\u001b[1;33m.\u001b[0m\u001b[0mMSIS00Atmosphere\u001b[0m\u001b[1;33m(\u001b[0m\u001b[1;33m*\u001b[0m\u001b[0mmodel_config\u001b[0m\u001b[1;33m)\u001b[0m\u001b[1;33m\u001b[0m\u001b[0m\n\u001b[0m\u001b[0;32m    749\u001b[0m         \u001b[1;32melif\u001b[0m \u001b[0mbase_model\u001b[0m \u001b[1;33m==\u001b[0m \u001b[1;34m'MSIS00_IC'\u001b[0m\u001b[1;33m:\u001b[0m\u001b[1;33m\u001b[0m\u001b[0m\n\u001b[0;32m    750\u001b[0m             \u001b[0mself\u001b[0m\u001b[1;33m.\u001b[0m\u001b[0mdensity_model\u001b[0m \u001b[1;33m=\u001b[0m \u001b[0mdprof\u001b[0m\u001b[1;33m.\u001b[0m\u001b[0mMSIS00IceCubeCentered\u001b[0m\u001b[1;33m(\u001b[0m\u001b[1;33m*\u001b[0m\u001b[0mmodel_config\u001b[0m\u001b[1;33m)\u001b[0m\u001b[1;33m\u001b[0m\u001b[0m\n",
      "\u001b[1;32mC:\\Users\\afedy\\Source\\Repos\\MCEq\\MCEq\\density_profiles.pyc\u001b[0m in \u001b[0;36m__init__\u001b[1;34m(self, location, season)\u001b[0m\n\u001b[0;32m    842\u001b[0m \u001b[1;33m\u001b[0m\u001b[0m\n\u001b[0;32m    843\u001b[0m     \u001b[1;32mdef\u001b[0m \u001b[0m__init__\u001b[0m\u001b[1;33m(\u001b[0m\u001b[0mself\u001b[0m\u001b[1;33m,\u001b[0m \u001b[0mlocation\u001b[0m\u001b[1;33m,\u001b[0m \u001b[0mseason\u001b[0m\u001b[1;33m)\u001b[0m\u001b[1;33m:\u001b[0m\u001b[1;33m\u001b[0m\u001b[0m\n\u001b[1;32m--> 844\u001b[1;33m         \u001b[1;32mfrom\u001b[0m \u001b[0mmsis_wrapper\u001b[0m \u001b[1;32mimport\u001b[0m \u001b[0mcNRLMSISE00\u001b[0m\u001b[1;33m,\u001b[0m \u001b[0mpyNRLMSISE00\u001b[0m\u001b[1;33m\u001b[0m\u001b[0m\n\u001b[0m\u001b[0;32m    845\u001b[0m         \u001b[1;32mif\u001b[0m \u001b[0mconfig\u001b[0m\u001b[1;33m[\u001b[0m\u001b[1;34m'msis_python'\u001b[0m\u001b[1;33m]\u001b[0m \u001b[1;33m==\u001b[0m \u001b[1;34m'ctypes'\u001b[0m\u001b[1;33m:\u001b[0m\u001b[1;33m\u001b[0m\u001b[0m\n\u001b[0;32m    846\u001b[0m             \u001b[0mself\u001b[0m\u001b[1;33m.\u001b[0m\u001b[0m_msis\u001b[0m \u001b[1;33m=\u001b[0m \u001b[0mcNRLMSISE00\u001b[0m\u001b[1;33m(\u001b[0m\u001b[1;33m)\u001b[0m\u001b[1;33m\u001b[0m\u001b[0m\n",
      "\u001b[1;32mC:\\Users\\afedy\\Source\\Repos\\MCEq\\MCEq\\msis_wrapper.py\u001b[0m in \u001b[0;36m<module>\u001b[1;34m()\u001b[0m\n\u001b[0;32m      3\u001b[0m \u001b[1;33m\u001b[0m\u001b[0m\n\u001b[0;32m      4\u001b[0m \u001b[1;32mif\u001b[0m \u001b[0mconfig\u001b[0m\u001b[1;33m[\u001b[0m\u001b[1;34m'msis_python'\u001b[0m\u001b[1;33m]\u001b[0m \u001b[1;33m==\u001b[0m \u001b[1;34m'ctypes'\u001b[0m\u001b[1;33m:\u001b[0m\u001b[1;33m\u001b[0m\u001b[0m\n\u001b[1;32m----> 5\u001b[1;33m     \u001b[1;32mfrom\u001b[0m \u001b[0mc_msis_interface\u001b[0m \u001b[1;32mimport\u001b[0m \u001b[1;33m*\u001b[0m\u001b[1;33m\u001b[0m\u001b[0m\n\u001b[0m\u001b[0;32m      6\u001b[0m \u001b[1;32melse\u001b[0m\u001b[1;33m:\u001b[0m\u001b[1;33m\u001b[0m\u001b[0m\n\u001b[0;32m      7\u001b[0m     \u001b[1;32mfrom\u001b[0m \u001b[0mnrlmsise_00_header\u001b[0m \u001b[1;32mimport\u001b[0m \u001b[1;33m*\u001b[0m\u001b[1;33m\u001b[0m\u001b[0m\n",
      "\u001b[1;31mImportError\u001b[0m: No module named c_msis_interface"
     ]
    }
   ],
   "source": [
    "mup_dict, numu_dict, nue_dict = {}, {}, {}\n",
    "for atm_tup in [(('CORSIKA', ('PL_SouthPole', 'January')), 'green'),\n",
    "                (('CORSIKA', ('PL_SouthPole', 'August')), 'red'),\n",
    "                (('MSIS00', ('SouthPole', 'January')), 'blue'),\n",
    "                (('MSIS00', ('SouthPole', 'August')), 'cyan'),\n",
    "                (('CORSIKA', ('BK_USStd', None)), 'black')]:\n",
    "\n",
    "\n",
    "    mceq_run.set_density_model(atm_tup[0])\n",
    "    for theta in [0., 90.]:\n",
    "        \n",
    "        mceq_run.set_theta_deg(theta)\n",
    "        mceq_run.solve()\n",
    "\n",
    "        mag = 3\n",
    "\n",
    "        mup_dict[(theta, atm_tup)] = mceq_run.get_solution('total_mu+', mag) + \\\n",
    "                               mceq_run.get_solution('total_mu-', mag)\n",
    "\n",
    "        numu_dict[(theta, atm_tup)] = mceq_run.get_solution('total_numu', mag) + \\\n",
    "                                mceq_run.get_solution('total_antinumu', mag)\n",
    "\n",
    "        nue_dict[(theta, atm_tup)] = mceq_run.get_solution('total_nue', mag) + \\\n",
    "                               mceq_run.get_solution('total_antinue', mag)"
   ]
  },
  {
   "cell_type": "markdown",
   "metadata": {},
   "source": [
    "Plot with `matplotlib`\n",
    "----------------------"
   ]
  },
  {
   "cell_type": "code",
   "execution_count": null,
   "metadata": {
    "collapsed": false
   },
   "outputs": [],
   "source": [
    "color_spectrum = ['b', 'r', 'g', 'orange', 'cyan', 'violet',\n",
    "                  'brown', 'pink', 'yellow', 'lightblue']\n",
    "titles = {('CORSIKA', 'PL_SouthPole', 'January'): 'CKA SP/Jan',\n",
    "          ('CORSIKA', 'PL_SouthPole', 'August'): 'CKA SP/Aug',\n",
    "          ('MSIS00', 'SouthPole', 'January'): 'MSIS00 SP/Jan',\n",
    "          ('MSIS00', 'SouthPole', 'August'): 'MSIS00 SP/Aug',\n",
    "          ('CORSIKA', 'BK_USStd', None): 'USStd'}\n",
    "fig = plt.figure(figsize=(8.5, 3.5))\n",
    "fig.set_tight_layout(dict(rect=[0.01, 0.01, 0.99, 0.97]))\n",
    "e_grid = mceq_run.y.e_grid\n",
    "compare_to = (('CORSIKA', 'BK_USStd', None), 'black')\n",
    "\n",
    "for theta, atm_tup in mup_dict.keys():\n",
    "    mup_comp = mup_dict[(theta, compare_to)]\n",
    "    numu_comp = numu_dict[(theta, compare_to)]\n",
    "    nue_comp = nue_dict[(theta, compare_to)]\n",
    "    \n",
    "    atm_config, atm_col = atm_tup\n",
    "    if atm_config[1].startswith('BK'):\n",
    "        continue    \n",
    "    ls = '--'\n",
    "    atm_title = '_nolabel_'\n",
    "    if theta < 90.:\n",
    "        ls='-'\n",
    "        atm_title = titles[atm_config]\n",
    "\n",
    "     \n",
    "    plt.subplot(121)        \n",
    "    plt.plot(e_grid, mup_dict[(theta, atm_tup)] / mup_comp, ls=ls, lw=1.5,\n",
    "             color=atm_col, label=atm_title)\n",
    "    plt.semilogx()\n",
    "    plt.xlabel(r\"$E_{\\mu}$ [GeV]\")\n",
    "    plt.ylim([0.75, 1.1])\n",
    "\n",
    "    plt.subplot(122)\n",
    "    plt.plot(e_grid, numu_dict[(theta, atm_tup)] / numu_comp, ls=ls,  lw=1.5,\n",
    "             color=atm_col, label=atm_title)\n",
    "    plt.semilogx()\n",
    "    plt.xlabel(r\"$E_{\\nu}$ [GeV]\")\n",
    "\n",
    "\n",
    "plt.subplot(121)\n",
    "plt.title('Muons', fontsize=10)\n",
    "plt.xlabel(r\"$E_{\\mu}$ [GeV]\")\n",
    "plt.ylabel(r\"$\\Phi_{\\mu}($atm$)/\\Phi_{\\mu}($USStd)\")\n",
    "plt.xlim([50,1e9])\n",
    "plt.ylim([0.75, 1.13])\n",
    "plt.legend(loc='lower left', ncol=2, frameon=False, fontsize=10)\n",
    "\n",
    "plt.subplot(122)\n",
    "plt.title('Muon neutrinos', fontsize=10)\n",
    "plt.xlabel(r\"$E_{\\nu_\\mu}$ [GeV]\")\n",
    "plt.ylabel(r\"$\\Phi_{\\nu_\\mu}($atm$)/\\Phi_{\\nu_\\mu}($USStd)\")\n",
    "plt.xlim([50,1e9])\n",
    "plt.ylim([0.75, 1.13])\n",
    "plt.legend(loc='lower left', ncol=2, frameon=False, fontsize=10)\n",
    "plt.savefig('atm_flux.pdf')"
   ]
  },
  {
   "cell_type": "code",
   "execution_count": null,
   "metadata": {
    "collapsed": false
   },
   "outputs": [],
   "source": []
  }
 ],
 "metadata": {
  "kernelspec": {
   "display_name": "Python 2",
   "language": "python",
   "name": "python2"
  },
  "language_info": {
   "codemirror_mode": {
    "name": "ipython",
    "version": 2
   },
   "file_extension": ".py",
   "mimetype": "text/x-python",
   "name": "python",
   "nbconvert_exporter": "python",
   "pygments_lexer": "ipython2",
   "version": "2.7.11"
  }
 },
 "nbformat": 4,
 "nbformat_minor": 0
}
